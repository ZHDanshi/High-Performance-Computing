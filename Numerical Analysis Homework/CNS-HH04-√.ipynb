{
 "cells": [
  {
   "cell_type": "code",
   "execution_count": null,
   "id": "1c8d49ee-5990-4ad9-86e2-8c6663b4f791",
   "metadata": {},
   "outputs": [],
   "source": []
  },
  {
   "cell_type": "code",
   "execution_count": 33,
   "id": "0fec9df6-341a-4159-a21f-24a5dd8dd673",
   "metadata": {
    "execution": {
     "iopub.execute_input": "2023-05-25T10:33:56.076000+08:00",
     "iopub.status.busy": "2023-05-25T10:33:56.075000+08:00",
     "iopub.status.idle": "2023-05-25T10:33:56.077000+08:00",
     "shell.execute_reply": "2023-05-25T10:33:56.076000+08:00"
    }
   },
   "outputs": [],
   "source": [
    "setprecision(3000);"
   ]
  },
  {
   "cell_type": "code",
   "execution_count": 34,
   "id": "4e8dfcdf-fa1d-4dff-85ff-9b2c25ee92f1",
   "metadata": {
    "execution": {
     "iopub.execute_input": "2023-05-25T10:33:56.082000+08:00",
     "iopub.status.busy": "2023-05-25T10:33:56.082000+08:00",
     "iopub.status.idle": "2023-05-25T10:33:56.085000+08:00",
     "shell.execute_reply": "2023-05-25T10:33:56.084000+08:00"
    }
   },
   "outputs": [
    {
     "data": {
      "text/plain": [
       "accuracy (generic function with 1 method)"
      ]
     },
     "execution_count": 34,
     "metadata": {},
     "output_type": "execute_result"
    }
   ],
   "source": [
    "function accuracy(t)\n",
    "    e = ep*exp(BigFloat(2.3025851)*(BigFloat(0.046)*t-BigFloat(15)))\n",
    "    ac = (0.29803-log10(e))/0.30103;\n",
    "    return max(round(Int,ac),64);\n",
    "end"
   ]
  },
  {
   "cell_type": "code",
   "execution_count": 35,
   "id": "06df4b91-fdd1-493e-b872-437fac823c10",
   "metadata": {
    "execution": {
     "iopub.execute_input": "2023-05-25T10:33:56.085000+08:00",
     "iopub.status.busy": "2023-05-25T10:33:56.085000+08:00",
     "iopub.status.idle": "2023-05-25T10:33:56.087000+08:00",
     "shell.execute_reply": "2023-05-25T10:33:56.087000+08:00"
    }
   },
   "outputs": [
    {
     "data": {
      "text/plain": [
       "order (generic function with 1 method)"
      ]
     },
     "execution_count": 35,
     "metadata": {},
     "output_type": "execute_result"
    }
   ],
   "source": [
    "function order()\n",
    "    M=100;\n",
    "    return M+1;\n",
    "end"
   ]
  },
  {
   "cell_type": "code",
   "execution_count": 36,
   "id": "901c087e-878d-40f0-8617-35f4fdd28bd1",
   "metadata": {
    "execution": {
     "iopub.execute_input": "2023-05-25T10:33:56.088000+08:00",
     "iopub.status.busy": "2023-05-25T10:33:56.088000+08:00",
     "iopub.status.idle": "2023-05-25T10:33:56.090000+08:00",
     "shell.execute_reply": "2023-05-25T10:33:56.090000+08:00"
    }
   },
   "outputs": [
    {
     "data": {
      "text/plain": [
       "Ep (generic function with 1 method)"
      ]
     },
     "execution_count": 36,
     "metadata": {},
     "output_type": "execute_result"
    }
   ],
   "source": [
    "function Ep(t)\n",
    "    return ep*exp(BigFloat(2.3025851)*(BigFloat(0.046)*t-BigFloat(10)))\n",
    "end"
   ]
  },
  {
   "cell_type": "code",
   "execution_count": 37,
   "id": "19aea40b-5ff3-4845-8927-1d2ab2f89ef3",
   "metadata": {
    "execution": {
     "iopub.execute_input": "2023-05-25T10:33:56.091000+08:00",
     "iopub.status.busy": "2023-05-25T10:33:56.091000+08:00",
     "iopub.status.idle": "2023-05-25T10:33:56.092000+08:00",
     "shell.execute_reply": "2023-05-25T10:33:56.092000+08:00"
    }
   },
   "outputs": [
    {
     "data": {
      "text/plain": [
       "steps (generic function with 1 method)"
      ]
     },
     "execution_count": 37,
     "metadata": {},
     "output_type": "execute_result"
    }
   ],
   "source": [
    "function steps(Dfm,Co)\n",
    "    h = Co*abs(Dfm)^(BigFloat(-1)/BigFloat(order()-1))\n",
    "    return min(h,BigFloat(2))\n",
    "end"
   ]
  },
  {
   "cell_type": "code",
   "execution_count": 38,
   "id": "40966095-3c02-465c-9efd-c1d6df273379",
   "metadata": {
    "execution": {
     "iopub.execute_input": "2023-05-25T10:33:56.097000+08:00",
     "iopub.status.busy": "2023-05-25T10:33:56.096000+08:00",
     "iopub.status.idle": "2023-05-25T10:33:56.099000+08:00",
     "shell.execute_reply": "2023-05-25T10:33:56.099000+08:00"
    }
   },
   "outputs": [
    {
     "data": {
      "text/plain": [
       "goonm (generic function with 1 method)"
      ]
     },
     "execution_count": 38,
     "metadata": {},
     "output_type": "execute_result"
    }
   ],
   "source": [
    "function goonm(mor)\n",
    "    sgo = BigFloat(1)\n",
    "    for i in 1:mor\n",
    "        sgo = sgo*BigFloat(i)\n",
    "    end\n",
    "    return (sgo)^(BigFloat(1)/BigFloat(mor))\n",
    "end "
   ]
  },
  {
   "cell_type": "code",
   "execution_count": 39,
   "id": "647c4b6e-d3f3-46fa-8f57-a7415caf8609",
   "metadata": {
    "execution": {
     "iopub.execute_input": "2023-05-25T10:33:56.099000+08:00",
     "iopub.status.busy": "2023-05-25T10:33:56.099000+08:00",
     "iopub.status.idle": "2023-05-25T10:33:56.101000+08:00",
     "shell.execute_reply": "2023-05-25T10:33:56.101000+08:00"
    }
   },
   "outputs": [
    {
     "data": {
      "text/plain": [
       "goon (generic function with 1 method)"
      ]
     },
     "execution_count": 39,
     "metadata": {},
     "output_type": "execute_result"
    }
   ],
   "source": [
    "function goon(mor,ep)\n",
    "    sgo = BigFloat(1)\n",
    "    for i in 1:mor\n",
    "        sgo = sgo*BigFloat(i)\n",
    "    end\n",
    "    return (ep*sgo)^(BigFloat(1)/BigFloat(mor))\n",
    "end "
   ]
  },
  {
   "cell_type": "code",
   "execution_count": 40,
   "id": "a50629d5-8e84-4c42-811a-a02b4df46434",
   "metadata": {
    "execution": {
     "iopub.execute_input": "2023-05-25T10:33:56.102000+08:00",
     "iopub.status.busy": "2023-05-25T10:33:56.102000+08:00",
     "iopub.status.idle": "2023-05-25T10:33:56.105000+08:00",
     "shell.execute_reply": "2023-05-25T10:33:56.105000+08:00"
    }
   },
   "outputs": [
    {
     "data": {
      "text/plain": [
       "JCh (generic function with 1 method)"
      ]
     },
     "execution_count": 40,
     "metadata": {},
     "output_type": "execute_result"
    }
   ],
   "source": [
    "function JCh(k,i)\n",
    "     \n",
    "    k = BigFloat(k);\n",
    "    i = BigFloat(i);\n",
    "    s = BigFloat(1);\n",
    "    if i < k/2\n",
    "        i = k - i;\n",
    "    end\n",
    "    for j in range(k,i+1,step=-1)\n",
    "        \n",
    "        j1=BigFloat(j)\n",
    "        s = s*j1/(j1-i)\n",
    "        \n",
    "    end\n",
    "    \n",
    "    return s\n",
    "end"
   ]
  },
  {
   "cell_type": "code",
   "execution_count": 41,
   "id": "ac281c6b-5e7c-4bf0-8fe6-726f9f7a39dd",
   "metadata": {
    "execution": {
     "iopub.execute_input": "2023-05-25T10:33:56.105000+08:00",
     "iopub.status.busy": "2023-05-25T10:33:56.105000+08:00",
     "iopub.status.idle": "2023-05-25T10:33:56.110000+08:00",
     "shell.execute_reply": "2023-05-25T10:33:56.110000+08:00"
    }
   },
   "outputs": [
    {
     "data": {
      "text/plain": [
       "DJCh (generic function with 1 method)"
      ]
     },
     "execution_count": 41,
     "metadata": {},
     "output_type": "execute_result"
    }
   ],
   "source": [
    "function DJCh()\n",
    "    Cki = Array{BigFloat}(undef,order()-1,order()-1);\n",
    "    for k in 1:order()-1\n",
    "        for j in 1:k\n",
    "            Cki[k,j] = 1\n",
    "        end\n",
    "    end\n",
    "    \n",
    "    for k in 2:order()-2\n",
    "        for i in 1:k-1\n",
    "           Cki[k+1,i+1] = Cki[k,i] + Cki[k,i+1]\n",
    "        end\n",
    "    end\n",
    "    return Cki\n",
    "end"
   ]
  },
  {
   "cell_type": "code",
   "execution_count": 42,
   "id": "1c05ec21-4b88-4044-9962-09b6085a0c51",
   "metadata": {
    "execution": {
     "iopub.execute_input": "2023-05-25T10:33:56.110000+08:00",
     "iopub.status.busy": "2023-05-25T10:33:56.110000+08:00",
     "iopub.status.idle": "2023-05-25T10:33:56.113000+08:00",
     "shell.execute_reply": "2023-05-25T10:33:56.112000+08:00"
    }
   },
   "outputs": [
    {
     "data": {
      "text/plain": [
       "multi (generic function with 1 method)"
      ]
     },
     "execution_count": 42,
     "metadata": {},
     "output_type": "execute_result"
    }
   ],
   "source": [
    "function multi(hstep)\n",
    "    S = Array{BigFloat}(undef,1,order());\n",
    "    S[1] = BigFloat(1)\n",
    "    \n",
    "    for i in 1:order()-1\n",
    "        S[i+1] = S[i]*hstep/BigFloat(i)\n",
    "    end\n",
    "    \n",
    "    return S\n",
    "end"
   ]
  },
  {
   "cell_type": "code",
   "execution_count": 43,
   "id": "ec8c14f5-c4e5-42fa-b3b5-435d28d190a9",
   "metadata": {
    "execution": {
     "iopub.execute_input": "2023-05-25T10:33:56.113000+08:00",
     "iopub.status.busy": "2023-05-25T10:33:56.113000+08:00",
     "iopub.status.idle": "2023-05-25T10:33:56.117000+08:00",
     "shell.execute_reply": "2023-05-25T10:33:56.117000+08:00"
    }
   },
   "outputs": [
    {
     "data": {
      "text/plain": [
       "Sumxyz2 (generic function with 1 method)"
      ]
     },
     "execution_count": 43,
     "metadata": {},
     "output_type": "execute_result"
    }
   ],
   "source": [
    "fdot1(x,y,z) = @. x*y*z\n",
    "fdot2(x,y) = @. x*y\n",
    "function Sumxyz1(x,y,Cki)\n",
    "    return sum(fdot1(Cki[1:end],reverse!(x[1:end]),y[1:end]))\n",
    "end \n",
    "function Sumxyz2(x,y,Cki)\n",
    "    return sum(fdot2(Cki,fdot2(reverse!(x[1:end]),x[1:end]) .- fdot2(reverse!(y[1:end]),y[1:end])))\n",
    "end "
   ]
  },
  {
   "cell_type": "code",
   "execution_count": 44,
   "id": "f1ccefb8-c19f-4dbc-8379-1728a148d9da",
   "metadata": {
    "execution": {
     "iopub.execute_input": "2023-05-25T10:33:56.117000+08:00",
     "iopub.status.busy": "2023-05-25T10:33:56.117000+08:00",
     "iopub.status.idle": "2023-05-25T10:33:56.122000+08:00",
     "shell.execute_reply": "2023-05-25T10:33:56.122000+08:00"
    }
   },
   "outputs": [
    {
     "data": {
      "text/plain": [
       "Talor (generic function with 1 method)"
      ]
     },
     "execution_count": 44,
     "metadata": {},
     "output_type": "execute_result"
    }
   ],
   "source": [
    "function Talor(x,y,Cki,Co)\n",
    "    for k in 1:order()-2\n",
    "        x[k+2] = -x[k] - BigFloat(2)*Sumxyz1(x[1:k],y[1:k],Cki[k,1:k])\n",
    "        y[k+2] = -y[k] - Sumxyz2(x[1:k],y[1:k],Cki[k,1:k]) \n",
    "    end\n",
    "    return x,y,min(steps(x[end],Co),steps(y[end],Co))\n",
    "end"
   ]
  },
  {
   "cell_type": "code",
   "execution_count": 45,
   "id": "aed42eda-f4b7-4569-9614-eefe655656ae",
   "metadata": {
    "execution": {
     "iopub.execute_input": "2023-05-25T10:33:56.122000+08:00",
     "iopub.status.busy": "2023-05-25T10:33:56.122000+08:00",
     "iopub.status.idle": "2023-05-25T10:33:56.221000+08:00",
     "shell.execute_reply": "2023-05-25T10:33:56.220000+08:00"
    }
   },
   "outputs": [
    {
     "data": {
      "text/plain": [
       "Iteration (generic function with 1 method)"
      ]
     },
     "execution_count": 45,
     "metadata": {},
     "output_type": "execute_result"
    }
   ],
   "source": [
    "function Iteration(x,y,Cki,Tin,Tinf)\n",
    "    stl = 0;\n",
    "    for st in 1:Times\n",
    "        \n",
    "        Co = Mo*Ep(Tin)^(BigFloat(1)/BigFloat(order()))\n",
    "        setprecision(accuracy(Tin))\n",
    "        \n",
    "        x,y,hstep = Talor(x,y,Cki,Co)\n",
    "        \n",
    "        if Tin + hstep < Tinf\n",
    "            \n",
    "            Dmulti = multi(hstep);\n",
    "            x[1] = sum(x[1:end].*Dmulti[1:end])\n",
    "            y[1] = sum(y[1:end].*Dmulti[1:end])\n",
    "            x[2] = sum(x[2:end].*Dmulti[1:end-1])\n",
    "            y[2] = sum(y[2:end].*Dmulti[1:end-1])\n",
    "            Lorenz[st,:] = [x[1],y[1]] \n",
    "            Lorenzf[st,:] = convert.(Float32,Lorenz[st,:])\n",
    "            \n",
    "            Tin = Tin + hstep\n",
    "            if mod(st,100) == 0\n",
    "            #println(st,\")\",\"Time=\",convert.(Float16,Tin),\": \",Lorenzf[st,:],\" (Ep: \",convert(Float16,log10(abs(Ep(Tin)))),\") (Mp: \",accuracy(Tin),\")\")\n",
    "            println(convert.(Float16,Tin))\n",
    "            end\n",
    "        else\n",
    "            hstep = Tinf - Tin\n",
    "            Dmulti = multi(hstep);\n",
    "            x[1] = sum(x[1:end].*Dmulti[1:end])\n",
    "            y[1] = sum(y[1:end].*Dmulti[1:end])\n",
    "            x[2] = sum(x[2:end].*Dmulti[1:end-1])\n",
    "            y[2] = sum(y[2:end].*Dmulti[1:end-1])\n",
    "            Lorenz[st,:] = [x[1],y[1]] \n",
    "            Lorenzf[st,:] = convert.(Float32,Lorenz[st,:])\n",
    "            Tin = Tinf\n",
    "            println(st,\")\",\"Time=\",convert.(Float16,Tin),\": \",Lorenzf[st,:],\" (Ep: \",convert(Float16,log10(abs(Ep(Tin)))),\") (Mp: \",accuracy(Tin),\")\")\n",
    "            #println(convert.(Float16,Tin))\n",
    "            stl = st\n",
    "            break;\n",
    "        end\n",
    "        \n",
    "    end\n",
    "    \n",
    "    return Lorenz,stl\n",
    "    \n",
    "end"
   ]
  },
  {
   "cell_type": "code",
   "execution_count": 46,
   "id": "f95cd5fe-5e6a-4461-b840-943f9475cc2b",
   "metadata": {
    "execution": {
     "iopub.execute_input": "2023-05-25T10:33:56.221000+08:00",
     "iopub.status.busy": "2023-05-25T10:33:56.221000+08:00",
     "iopub.status.idle": "2023-05-25T10:33:56.299000+08:00",
     "shell.execute_reply": "2023-05-25T10:33:56.298000+08:00"
    },
    "tags": []
   },
   "outputs": [
    {
     "name": "stdout",
     "output_type": "stream",
     "text": [
      "ep0: -100.0\n"
     ]
    }
   ],
   "source": [
    "Times = 1000000;      \n",
    "Tin = BigFloat(0);\n",
    "Tinf = BigFloat(2000);\n",
    "\n",
    "#ep = BigFloat(10)^BigFloat(-75);\n",
    "ep = BigFloat(10)^(-8-0.046*Tinf)\n",
    "Mo = goonm(order())\n",
    "\n",
    "x = Array{BigFloat}(undef,order())\n",
    "y = Array{BigFloat}(undef,order())\n",
    "Lorenz = Array{BigFloat}(undef,Times,2);\n",
    "Lorenzf = Array{Float32}(undef,Times,2);\n",
    "Dmulti = Array{BigFloat}(undef,1,order());\n",
    "Cki = Array{BigFloat}(undef,order()-1,order()-1);\n",
    "HH = Array{BigFloat}(undef,Times,2);\n",
    "\n",
    "x[1] = BigFloat(14)/BigFloat(25); \n",
    "y[1] = BigFloat(0); \n",
    "x[2] = BigFloat(0); \n",
    "y[2] = BigFloat(0); \n",
    "\n",
    "Cki = DJCh();\n",
    "println(\"ep0: \",convert(Float16,log10(abs(ep))))"
   ]
  },
  {
   "cell_type": "code",
   "execution_count": 47,
   "id": "3de054a4-c22b-4595-a22d-b10167e7423a",
   "metadata": {
    "collapsed": true,
    "execution": {
     "iopub.execute_input": "2023-05-25T10:33:56.299000+08:00",
     "iopub.status.busy": "2023-05-25T10:33:56.299000+08:00",
     "iopub.status.idle": "2023-05-25T10:34:21.076000+08:00",
     "shell.execute_reply": "2023-05-25T10:34:21.076000+08:00"
    },
    "jupyter": {
     "outputs_hidden": true
    },
    "tags": []
   },
   "outputs": [
    {
     "name": "stdout",
     "output_type": "stream",
     "text": [
      "28.5\n",
      "57.0\n",
      "88.4\n",
      "118.75\n",
      "150.9\n",
      "183.8\n",
      "217.5\n",
      "254.1\n",
      "291.5\n",
      "330.2\n",
      "370.2\n",
      "412.5\n",
      "454.8\n",
      "499.5\n",
      "547.5\n",
      "598.0\n",
      "652.0\n",
      "709.5\n",
      "769.5\n",
      "833.5\n",
      "902.0\n",
      "974.5\n",
      "1.054e3\n",
      "1.141e3\n",
      "1.238e3\n",
      "1.345e3\n",
      "1.463e3\n",
      "1.599e3\n",
      "1.762e3\n",
      "1.951e3\n",
      "2.0e3\n"
     ]
    }
   ],
   "source": [
    "HH,st = Iteration(x,y,Cki,Tin,Tinf);"
   ]
  },
  {
   "cell_type": "code",
   "execution_count": 48,
   "id": "9e5cf3a8-855c-4297-9416-c802ffdb7c80",
   "metadata": {
    "execution": {
     "iopub.execute_input": "2023-05-25T10:34:21.077000+08:00",
     "iopub.status.busy": "2023-05-25T10:34:21.076000+08:00",
     "iopub.status.idle": "2023-05-25T10:34:29.757000+08:00",
     "shell.execute_reply": "2023-05-25T10:34:29.756000+08:00"
    },
    "tags": []
   },
   "outputs": [
    {
     "data": {
      "image/svg+xml": [
       "<?xml version=\"1.0\" encoding=\"utf-8\"?>\n",
       "<svg xmlns=\"http://www.w3.org/2000/svg\" xmlns:xlink=\"http://www.w3.org/1999/xlink\" width=\"600\" height=\"400\" viewBox=\"0 0 2400 1600\">\n",
       "<defs>\n",
       "  <clipPath id=\"clip390\">\n",
       "    <rect x=\"0\" y=\"0\" width=\"2400\" height=\"1600\"/>\n",
       "  </clipPath>\n",
       "</defs>\n",
       "<path clip-path=\"url(#clip390)\" d=\"M0 1600 L2400 1600 L2400 0 L0 0  Z\" fill=\"#ffffff\" fill-rule=\"evenodd\" fill-opacity=\"1\"/>\n",
       "<defs>\n",
       "  <clipPath id=\"clip391\">\n",
       "    <rect x=\"480\" y=\"0\" width=\"1681\" height=\"1600\"/>\n",
       "  </clipPath>\n",
       "</defs>\n",
       "<path clip-path=\"url(#clip390)\" d=\"M193.288 1486.45 L2352.76 1486.45 L2352.76 47.2441 L193.288 47.2441  Z\" fill=\"#ffffff\" fill-rule=\"evenodd\" fill-opacity=\"1\"/>\n",
       "<defs>\n",
       "  <clipPath id=\"clip392\">\n",
       "    <rect x=\"193\" y=\"47\" width=\"2160\" height=\"1440\"/>\n",
       "  </clipPath>\n",
       "</defs>\n",
       "<polyline clip-path=\"url(#clip392)\" style=\"stroke:#000000; stroke-linecap:round; stroke-linejoin:round; stroke-width:2; stroke-opacity:0.1; fill:none\" points=\"451.553,1486.45 451.553,47.2441 \"/>\n",
       "<polyline clip-path=\"url(#clip392)\" style=\"stroke:#000000; stroke-linecap:round; stroke-linejoin:round; stroke-width:2; stroke-opacity:0.1; fill:none\" points=\"726.672,1486.45 726.672,47.2441 \"/>\n",
       "<polyline clip-path=\"url(#clip392)\" style=\"stroke:#000000; stroke-linecap:round; stroke-linejoin:round; stroke-width:2; stroke-opacity:0.1; fill:none\" points=\"1001.79,1486.45 1001.79,47.2441 \"/>\n",
       "<polyline clip-path=\"url(#clip392)\" style=\"stroke:#000000; stroke-linecap:round; stroke-linejoin:round; stroke-width:2; stroke-opacity:0.1; fill:none\" points=\"1276.91,1486.45 1276.91,47.2441 \"/>\n",
       "<polyline clip-path=\"url(#clip392)\" style=\"stroke:#000000; stroke-linecap:round; stroke-linejoin:round; stroke-width:2; stroke-opacity:0.1; fill:none\" points=\"1552.03,1486.45 1552.03,47.2441 \"/>\n",
       "<polyline clip-path=\"url(#clip392)\" style=\"stroke:#000000; stroke-linecap:round; stroke-linejoin:round; stroke-width:2; stroke-opacity:0.1; fill:none\" points=\"1827.15,1486.45 1827.15,47.2441 \"/>\n",
       "<polyline clip-path=\"url(#clip392)\" style=\"stroke:#000000; stroke-linecap:round; stroke-linejoin:round; stroke-width:2; stroke-opacity:0.1; fill:none\" points=\"2102.27,1486.45 2102.27,47.2441 \"/>\n",
       "<polyline clip-path=\"url(#clip390)\" style=\"stroke:#000000; stroke-linecap:round; stroke-linejoin:round; stroke-width:4; stroke-opacity:1; fill:none\" points=\"193.288,1486.45 2352.76,1486.45 \"/>\n",
       "<polyline clip-path=\"url(#clip390)\" style=\"stroke:#000000; stroke-linecap:round; stroke-linejoin:round; stroke-width:4; stroke-opacity:1; fill:none\" points=\"451.553,1486.45 451.553,1467.55 \"/>\n",
       "<polyline clip-path=\"url(#clip390)\" style=\"stroke:#000000; stroke-linecap:round; stroke-linejoin:round; stroke-width:4; stroke-opacity:1; fill:none\" points=\"726.672,1486.45 726.672,1467.55 \"/>\n",
       "<polyline clip-path=\"url(#clip390)\" style=\"stroke:#000000; stroke-linecap:round; stroke-linejoin:round; stroke-width:4; stroke-opacity:1; fill:none\" points=\"1001.79,1486.45 1001.79,1467.55 \"/>\n",
       "<polyline clip-path=\"url(#clip390)\" style=\"stroke:#000000; stroke-linecap:round; stroke-linejoin:round; stroke-width:4; stroke-opacity:1; fill:none\" points=\"1276.91,1486.45 1276.91,1467.55 \"/>\n",
       "<polyline clip-path=\"url(#clip390)\" style=\"stroke:#000000; stroke-linecap:round; stroke-linejoin:round; stroke-width:4; stroke-opacity:1; fill:none\" points=\"1552.03,1486.45 1552.03,1467.55 \"/>\n",
       "<polyline clip-path=\"url(#clip390)\" style=\"stroke:#000000; stroke-linecap:round; stroke-linejoin:round; stroke-width:4; stroke-opacity:1; fill:none\" points=\"1827.15,1486.45 1827.15,1467.55 \"/>\n",
       "<polyline clip-path=\"url(#clip390)\" style=\"stroke:#000000; stroke-linecap:round; stroke-linejoin:round; stroke-width:4; stroke-opacity:1; fill:none\" points=\"2102.27,1486.45 2102.27,1467.55 \"/>\n",
       "<path clip-path=\"url(#clip390)\" d=\"M398 1532.02 L427.676 1532.02 L427.676 1535.95 L398 1535.95 L398 1532.02 Z\" fill=\"#000000\" fill-rule=\"evenodd\" fill-opacity=\"1\" /><path clip-path=\"url(#clip390)\" d=\"M447.768 1517.37 Q444.157 1517.37 442.329 1520.93 Q440.523 1524.47 440.523 1531.6 Q440.523 1538.71 442.329 1542.27 Q444.157 1545.82 447.768 1545.82 Q451.403 1545.82 453.208 1542.27 Q455.037 1538.71 455.037 1531.6 Q455.037 1524.47 453.208 1520.93 Q451.403 1517.37 447.768 1517.37 M447.768 1513.66 Q453.579 1513.66 456.634 1518.27 Q459.713 1522.85 459.713 1531.6 Q459.713 1540.33 456.634 1544.94 Q453.579 1549.52 447.768 1549.52 Q441.958 1549.52 438.88 1544.94 Q435.824 1540.33 435.824 1531.6 Q435.824 1522.85 438.88 1518.27 Q441.958 1513.66 447.768 1513.66 Z\" fill=\"#000000\" fill-rule=\"evenodd\" fill-opacity=\"1\" /><path clip-path=\"url(#clip390)\" d=\"M467.93 1542.97 L472.815 1542.97 L472.815 1548.85 L467.93 1548.85 L467.93 1542.97 Z\" fill=\"#000000\" fill-rule=\"evenodd\" fill-opacity=\"1\" /><path clip-path=\"url(#clip390)\" d=\"M493.578 1529.7 Q490.43 1529.7 488.578 1531.86 Q486.75 1534.01 486.75 1537.76 Q486.75 1541.49 488.578 1543.66 Q490.43 1545.82 493.578 1545.82 Q496.727 1545.82 498.555 1543.66 Q500.407 1541.49 500.407 1537.76 Q500.407 1534.01 498.555 1531.86 Q496.727 1529.7 493.578 1529.7 M502.861 1515.05 L502.861 1519.31 Q501.102 1518.48 499.296 1518.04 Q497.514 1517.6 495.754 1517.6 Q491.125 1517.6 488.671 1520.72 Q486.24 1523.85 485.893 1530.17 Q487.259 1528.15 489.319 1527.09 Q491.379 1526 493.856 1526 Q499.065 1526 502.074 1529.17 Q505.106 1532.32 505.106 1537.76 Q505.106 1543.08 501.958 1546.3 Q498.81 1549.52 493.578 1549.52 Q487.583 1549.52 484.412 1544.94 Q481.241 1540.33 481.241 1531.6 Q481.241 1523.41 485.129 1518.55 Q489.018 1513.66 495.569 1513.66 Q497.328 1513.66 499.111 1514.01 Q500.916 1514.36 502.861 1515.05 Z\" fill=\"#000000\" fill-rule=\"evenodd\" fill-opacity=\"1\" /><path clip-path=\"url(#clip390)\" d=\"M672.957 1532.02 L702.633 1532.02 L702.633 1535.95 L672.957 1535.95 L672.957 1532.02 Z\" fill=\"#000000\" fill-rule=\"evenodd\" fill-opacity=\"1\" /><path clip-path=\"url(#clip390)\" d=\"M722.725 1517.37 Q719.114 1517.37 717.285 1520.93 Q715.48 1524.47 715.48 1531.6 Q715.48 1538.71 717.285 1542.27 Q719.114 1545.82 722.725 1545.82 Q726.359 1545.82 728.165 1542.27 Q729.994 1538.71 729.994 1531.6 Q729.994 1524.47 728.165 1520.93 Q726.359 1517.37 722.725 1517.37 M722.725 1513.66 Q728.535 1513.66 731.591 1518.27 Q734.67 1522.85 734.67 1531.6 Q734.67 1540.33 731.591 1544.94 Q728.535 1549.52 722.725 1549.52 Q716.915 1549.52 713.836 1544.94 Q710.781 1540.33 710.781 1531.6 Q710.781 1522.85 713.836 1518.27 Q716.915 1513.66 722.725 1513.66 Z\" fill=\"#000000\" fill-rule=\"evenodd\" fill-opacity=\"1\" /><path clip-path=\"url(#clip390)\" d=\"M742.887 1542.97 L747.771 1542.97 L747.771 1548.85 L742.887 1548.85 L742.887 1542.97 Z\" fill=\"#000000\" fill-rule=\"evenodd\" fill-opacity=\"1\" /><path clip-path=\"url(#clip390)\" d=\"M770.804 1518.36 L758.998 1536.81 L770.804 1536.81 L770.804 1518.36 M769.577 1514.29 L775.456 1514.29 L775.456 1536.81 L780.387 1536.81 L780.387 1540.7 L775.456 1540.7 L775.456 1548.85 L770.804 1548.85 L770.804 1540.7 L755.202 1540.7 L755.202 1536.19 L769.577 1514.29 Z\" fill=\"#000000\" fill-rule=\"evenodd\" fill-opacity=\"1\" /><path clip-path=\"url(#clip390)\" d=\"M949.117 1532.02 L978.793 1532.02 L978.793 1535.95 L949.117 1535.95 L949.117 1532.02 Z\" fill=\"#000000\" fill-rule=\"evenodd\" fill-opacity=\"1\" /><path clip-path=\"url(#clip390)\" d=\"M998.886 1517.37 Q995.274 1517.37 993.446 1520.93 Q991.64 1524.47 991.64 1531.6 Q991.64 1538.71 993.446 1542.27 Q995.274 1545.82 998.886 1545.82 Q1002.52 1545.82 1004.33 1542.27 Q1006.15 1538.71 1006.15 1531.6 Q1006.15 1524.47 1004.33 1520.93 Q1002.52 1517.37 998.886 1517.37 M998.886 1513.66 Q1004.7 1513.66 1007.75 1518.27 Q1010.83 1522.85 1010.83 1531.6 Q1010.83 1540.33 1007.75 1544.94 Q1004.7 1549.52 998.886 1549.52 Q993.075 1549.52 989.997 1544.94 Q986.941 1540.33 986.941 1531.6 Q986.941 1522.85 989.997 1518.27 Q993.075 1513.66 998.886 1513.66 Z\" fill=\"#000000\" fill-rule=\"evenodd\" fill-opacity=\"1\" /><path clip-path=\"url(#clip390)\" d=\"M1019.05 1542.97 L1023.93 1542.97 L1023.93 1548.85 L1019.05 1548.85 L1019.05 1542.97 Z\" fill=\"#000000\" fill-rule=\"evenodd\" fill-opacity=\"1\" /><path clip-path=\"url(#clip390)\" d=\"M1038.14 1544.91 L1054.46 1544.91 L1054.46 1548.85 L1032.52 1548.85 L1032.52 1544.91 Q1035.18 1542.16 1039.76 1537.53 Q1044.37 1532.88 1045.55 1531.53 Q1047.8 1529.01 1048.68 1527.27 Q1049.58 1525.51 1049.58 1523.82 Q1049.58 1521.07 1047.64 1519.33 Q1045.71 1517.6 1042.61 1517.6 Q1040.41 1517.6 1037.96 1518.36 Q1035.53 1519.13 1032.75 1520.68 L1032.75 1515.95 Q1035.58 1514.82 1038.03 1514.24 Q1040.48 1513.66 1042.52 1513.66 Q1047.89 1513.66 1051.08 1516.35 Q1054.28 1519.03 1054.28 1523.52 Q1054.28 1525.65 1053.47 1527.57 Q1052.68 1529.47 1050.58 1532.07 Q1050 1532.74 1046.89 1535.95 Q1043.79 1539.15 1038.14 1544.91 Z\" fill=\"#000000\" fill-rule=\"evenodd\" fill-opacity=\"1\" /><path clip-path=\"url(#clip390)\" d=\"M1254.29 1517.37 Q1250.68 1517.37 1248.85 1520.93 Q1247.05 1524.47 1247.05 1531.6 Q1247.05 1538.71 1248.85 1542.27 Q1250.68 1545.82 1254.29 1545.82 Q1257.93 1545.82 1259.73 1542.27 Q1261.56 1538.71 1261.56 1531.6 Q1261.56 1524.47 1259.73 1520.93 Q1257.93 1517.37 1254.29 1517.37 M1254.29 1513.66 Q1260.1 1513.66 1263.16 1518.27 Q1266.24 1522.85 1266.24 1531.6 Q1266.24 1540.33 1263.16 1544.94 Q1260.1 1549.52 1254.29 1549.52 Q1248.48 1549.52 1245.4 1544.94 Q1242.35 1540.33 1242.35 1531.6 Q1242.35 1522.85 1245.4 1518.27 Q1248.48 1513.66 1254.29 1513.66 Z\" fill=\"#000000\" fill-rule=\"evenodd\" fill-opacity=\"1\" /><path clip-path=\"url(#clip390)\" d=\"M1274.46 1542.97 L1279.34 1542.97 L1279.34 1548.85 L1274.46 1548.85 L1274.46 1542.97 Z\" fill=\"#000000\" fill-rule=\"evenodd\" fill-opacity=\"1\" /><path clip-path=\"url(#clip390)\" d=\"M1299.52 1517.37 Q1295.91 1517.37 1294.09 1520.93 Q1292.28 1524.47 1292.28 1531.6 Q1292.28 1538.71 1294.09 1542.27 Q1295.91 1545.82 1299.52 1545.82 Q1303.16 1545.82 1304.96 1542.27 Q1306.79 1538.71 1306.79 1531.6 Q1306.79 1524.47 1304.96 1520.93 Q1303.16 1517.37 1299.52 1517.37 M1299.52 1513.66 Q1305.34 1513.66 1308.39 1518.27 Q1311.47 1522.85 1311.47 1531.6 Q1311.47 1540.33 1308.39 1544.94 Q1305.34 1549.52 1299.52 1549.52 Q1293.71 1549.52 1290.64 1544.94 Q1287.58 1540.33 1287.58 1531.6 Q1287.58 1522.85 1290.64 1518.27 Q1293.71 1513.66 1299.52 1513.66 Z\" fill=\"#000000\" fill-rule=\"evenodd\" fill-opacity=\"1\" /><path clip-path=\"url(#clip390)\" d=\"M1530.21 1517.37 Q1526.6 1517.37 1524.77 1520.93 Q1522.97 1524.47 1522.97 1531.6 Q1522.97 1538.71 1524.77 1542.27 Q1526.6 1545.82 1530.21 1545.82 Q1533.85 1545.82 1535.65 1542.27 Q1537.48 1538.71 1537.48 1531.6 Q1537.48 1524.47 1535.65 1520.93 Q1533.85 1517.37 1530.21 1517.37 M1530.21 1513.66 Q1536.02 1513.66 1539.08 1518.27 Q1542.16 1522.85 1542.16 1531.6 Q1542.16 1540.33 1539.08 1544.94 Q1536.02 1549.52 1530.21 1549.52 Q1524.4 1549.52 1521.32 1544.94 Q1518.27 1540.33 1518.27 1531.6 Q1518.27 1522.85 1521.32 1518.27 Q1524.4 1513.66 1530.21 1513.66 Z\" fill=\"#000000\" fill-rule=\"evenodd\" fill-opacity=\"1\" /><path clip-path=\"url(#clip390)\" d=\"M1550.37 1542.97 L1555.26 1542.97 L1555.26 1548.85 L1550.37 1548.85 L1550.37 1542.97 Z\" fill=\"#000000\" fill-rule=\"evenodd\" fill-opacity=\"1\" /><path clip-path=\"url(#clip390)\" d=\"M1569.47 1544.91 L1585.79 1544.91 L1585.79 1548.85 L1563.85 1548.85 L1563.85 1544.91 Q1566.51 1542.16 1571.09 1537.53 Q1575.7 1532.88 1576.88 1531.53 Q1579.12 1529.01 1580 1527.27 Q1580.91 1525.51 1580.91 1523.82 Q1580.91 1521.07 1578.96 1519.33 Q1577.04 1517.6 1573.94 1517.6 Q1571.74 1517.6 1569.28 1518.36 Q1566.85 1519.13 1564.08 1520.68 L1564.08 1515.95 Q1566.9 1514.82 1569.35 1514.24 Q1571.81 1513.66 1573.85 1513.66 Q1579.22 1513.66 1582.41 1516.35 Q1585.6 1519.03 1585.6 1523.52 Q1585.6 1525.65 1584.79 1527.57 Q1584.01 1529.47 1581.9 1532.07 Q1581.32 1532.74 1578.22 1535.95 Q1575.12 1539.15 1569.47 1544.91 Z\" fill=\"#000000\" fill-rule=\"evenodd\" fill-opacity=\"1\" /><path clip-path=\"url(#clip390)\" d=\"M1804.29 1517.37 Q1800.68 1517.37 1798.85 1520.93 Q1797.04 1524.47 1797.04 1531.6 Q1797.04 1538.71 1798.85 1542.27 Q1800.68 1545.82 1804.29 1545.82 Q1807.92 1545.82 1809.73 1542.27 Q1811.56 1538.71 1811.56 1531.6 Q1811.56 1524.47 1809.73 1520.93 Q1807.92 1517.37 1804.29 1517.37 M1804.29 1513.66 Q1810.1 1513.66 1813.15 1518.27 Q1816.23 1522.85 1816.23 1531.6 Q1816.23 1540.33 1813.15 1544.94 Q1810.1 1549.52 1804.29 1549.52 Q1798.48 1549.52 1795.4 1544.94 Q1792.34 1540.33 1792.34 1531.6 Q1792.34 1522.85 1795.4 1518.27 Q1798.48 1513.66 1804.29 1513.66 Z\" fill=\"#000000\" fill-rule=\"evenodd\" fill-opacity=\"1\" /><path clip-path=\"url(#clip390)\" d=\"M1824.45 1542.97 L1829.33 1542.97 L1829.33 1548.85 L1824.45 1548.85 L1824.45 1542.97 Z\" fill=\"#000000\" fill-rule=\"evenodd\" fill-opacity=\"1\" /><path clip-path=\"url(#clip390)\" d=\"M1852.37 1518.36 L1840.56 1536.81 L1852.37 1536.81 L1852.37 1518.36 M1851.14 1514.29 L1857.02 1514.29 L1857.02 1536.81 L1861.95 1536.81 L1861.95 1540.7 L1857.02 1540.7 L1857.02 1548.85 L1852.37 1548.85 L1852.37 1540.7 L1836.76 1540.7 L1836.76 1536.19 L1851.14 1514.29 Z\" fill=\"#000000\" fill-rule=\"evenodd\" fill-opacity=\"1\" /><path clip-path=\"url(#clip390)\" d=\"M2079.57 1517.37 Q2075.96 1517.37 2074.13 1520.93 Q2072.32 1524.47 2072.32 1531.6 Q2072.32 1538.71 2074.13 1542.27 Q2075.96 1545.82 2079.57 1545.82 Q2083.2 1545.82 2085.01 1542.27 Q2086.84 1538.71 2086.84 1531.6 Q2086.84 1524.47 2085.01 1520.93 Q2083.2 1517.37 2079.57 1517.37 M2079.57 1513.66 Q2085.38 1513.66 2088.43 1518.27 Q2091.51 1522.85 2091.51 1531.6 Q2091.51 1540.33 2088.43 1544.94 Q2085.38 1549.52 2079.57 1549.52 Q2073.76 1549.52 2070.68 1544.94 Q2067.62 1540.33 2067.62 1531.6 Q2067.62 1522.85 2070.68 1518.27 Q2073.76 1513.66 2079.57 1513.66 Z\" fill=\"#000000\" fill-rule=\"evenodd\" fill-opacity=\"1\" /><path clip-path=\"url(#clip390)\" d=\"M2099.73 1542.97 L2104.62 1542.97 L2104.62 1548.85 L2099.73 1548.85 L2099.73 1542.97 Z\" fill=\"#000000\" fill-rule=\"evenodd\" fill-opacity=\"1\" /><path clip-path=\"url(#clip390)\" d=\"M2125.38 1529.7 Q2122.23 1529.7 2120.38 1531.86 Q2118.55 1534.01 2118.55 1537.76 Q2118.55 1541.49 2120.38 1543.66 Q2122.23 1545.82 2125.38 1545.82 Q2128.53 1545.82 2130.36 1543.66 Q2132.21 1541.49 2132.21 1537.76 Q2132.21 1534.01 2130.36 1531.86 Q2128.53 1529.7 2125.38 1529.7 M2134.66 1515.05 L2134.66 1519.31 Q2132.9 1518.48 2131.1 1518.04 Q2129.31 1517.6 2127.55 1517.6 Q2122.93 1517.6 2120.47 1520.72 Q2118.04 1523.85 2117.69 1530.17 Q2119.06 1528.15 2121.12 1527.09 Q2123.18 1526 2125.66 1526 Q2130.86 1526 2133.87 1529.17 Q2136.91 1532.32 2136.91 1537.76 Q2136.91 1543.08 2133.76 1546.3 Q2130.61 1549.52 2125.38 1549.52 Q2119.38 1549.52 2116.21 1544.94 Q2113.04 1540.33 2113.04 1531.6 Q2113.04 1523.41 2116.93 1518.55 Q2120.82 1513.66 2127.37 1513.66 Q2129.13 1513.66 2130.91 1514.01 Q2132.72 1514.36 2134.66 1515.05 Z\" fill=\"#000000\" fill-rule=\"evenodd\" fill-opacity=\"1\" /><polyline clip-path=\"url(#clip392)\" style=\"stroke:#000000; stroke-linecap:round; stroke-linejoin:round; stroke-width:2; stroke-opacity:0.1; fill:none\" points=\"193.288,1255.25 2352.76,1255.25 \"/>\n",
       "<polyline clip-path=\"url(#clip392)\" style=\"stroke:#000000; stroke-linecap:round; stroke-linejoin:round; stroke-width:2; stroke-opacity:0.1; fill:none\" points=\"193.288,947.53 2352.76,947.53 \"/>\n",
       "<polyline clip-path=\"url(#clip392)\" style=\"stroke:#000000; stroke-linecap:round; stroke-linejoin:round; stroke-width:2; stroke-opacity:0.1; fill:none\" points=\"193.288,639.811 2352.76,639.811 \"/>\n",
       "<polyline clip-path=\"url(#clip392)\" style=\"stroke:#000000; stroke-linecap:round; stroke-linejoin:round; stroke-width:2; stroke-opacity:0.1; fill:none\" points=\"193.288,332.091 2352.76,332.091 \"/>\n",
       "<polyline clip-path=\"url(#clip390)\" style=\"stroke:#000000; stroke-linecap:round; stroke-linejoin:round; stroke-width:4; stroke-opacity:1; fill:none\" points=\"193.288,1486.45 193.288,47.2441 \"/>\n",
       "<polyline clip-path=\"url(#clip390)\" style=\"stroke:#000000; stroke-linecap:round; stroke-linejoin:round; stroke-width:4; stroke-opacity:1; fill:none\" points=\"193.288,1255.25 212.185,1255.25 \"/>\n",
       "<polyline clip-path=\"url(#clip390)\" style=\"stroke:#000000; stroke-linecap:round; stroke-linejoin:round; stroke-width:4; stroke-opacity:1; fill:none\" points=\"193.288,947.53 212.185,947.53 \"/>\n",
       "<polyline clip-path=\"url(#clip390)\" style=\"stroke:#000000; stroke-linecap:round; stroke-linejoin:round; stroke-width:4; stroke-opacity:1; fill:none\" points=\"193.288,639.811 212.185,639.811 \"/>\n",
       "<polyline clip-path=\"url(#clip390)\" style=\"stroke:#000000; stroke-linecap:round; stroke-linejoin:round; stroke-width:4; stroke-opacity:1; fill:none\" points=\"193.288,332.091 212.185,332.091 \"/>\n",
       "<path clip-path=\"url(#clip390)\" d=\"M50.9921 1255.7 L80.6679 1255.7 L80.6679 1259.64 L50.9921 1259.64 L50.9921 1255.7 Z\" fill=\"#000000\" fill-rule=\"evenodd\" fill-opacity=\"1\" /><path clip-path=\"url(#clip390)\" d=\"M100.76 1241.05 Q97.1493 1241.05 95.3206 1244.61 Q93.515 1248.16 93.515 1255.28 Q93.515 1262.39 95.3206 1265.96 Q97.1493 1269.5 100.76 1269.5 Q104.395 1269.5 106.2 1265.96 Q108.029 1262.39 108.029 1255.28 Q108.029 1248.16 106.2 1244.61 Q104.395 1241.05 100.76 1241.05 M100.76 1237.34 Q106.571 1237.34 109.626 1241.95 Q112.705 1246.53 112.705 1255.28 Q112.705 1264.01 109.626 1268.62 Q106.571 1273.2 100.76 1273.2 Q94.9502 1273.2 91.8715 1268.62 Q88.816 1264.01 88.816 1255.28 Q88.816 1246.53 91.8715 1241.95 Q94.9502 1237.34 100.76 1237.34 Z\" fill=\"#000000\" fill-rule=\"evenodd\" fill-opacity=\"1\" /><path clip-path=\"url(#clip390)\" d=\"M120.922 1266.65 L125.807 1266.65 L125.807 1272.53 L120.922 1272.53 L120.922 1266.65 Z\" fill=\"#000000\" fill-rule=\"evenodd\" fill-opacity=\"1\" /><path clip-path=\"url(#clip390)\" d=\"M150.158 1253.9 Q153.515 1254.61 155.39 1256.88 Q157.288 1259.15 157.288 1262.48 Q157.288 1267.6 153.769 1270.4 Q150.251 1273.2 143.769 1273.2 Q141.593 1273.2 139.279 1272.76 Q136.987 1272.34 134.533 1271.49 L134.533 1266.97 Q136.478 1268.11 138.793 1268.69 Q141.107 1269.27 143.631 1269.27 Q148.029 1269.27 150.32 1267.53 Q152.635 1265.79 152.635 1262.48 Q152.635 1259.43 150.482 1257.72 Q148.353 1255.98 144.533 1255.98 L140.506 1255.98 L140.506 1252.14 L144.718 1252.14 Q148.168 1252.14 149.996 1250.77 Q151.825 1249.38 151.825 1246.79 Q151.825 1244.13 149.927 1242.72 Q148.052 1241.28 144.533 1241.28 Q142.612 1241.28 140.413 1241.7 Q138.214 1242.11 135.575 1242.99 L135.575 1238.83 Q138.237 1238.09 140.552 1237.72 Q142.89 1237.34 144.95 1237.34 Q150.274 1237.34 153.376 1239.78 Q156.478 1242.18 156.478 1246.3 Q156.478 1249.17 154.834 1251.16 Q153.191 1253.13 150.158 1253.9 Z\" fill=\"#000000\" fill-rule=\"evenodd\" fill-opacity=\"1\" /><path clip-path=\"url(#clip390)\" d=\"M100.112 933.329 Q96.5011 933.329 94.6724 936.894 Q92.8669 940.435 92.8669 947.565 Q92.8669 954.671 94.6724 958.236 Q96.5011 961.778 100.112 961.778 Q103.746 961.778 105.552 958.236 Q107.381 954.671 107.381 947.565 Q107.381 940.435 105.552 936.894 Q103.746 933.329 100.112 933.329 M100.112 929.625 Q105.922 929.625 108.978 934.232 Q112.057 938.815 112.057 947.565 Q112.057 956.292 108.978 960.898 Q105.922 965.482 100.112 965.482 Q94.3021 965.482 91.2234 960.898 Q88.1679 956.292 88.1679 947.565 Q88.1679 938.815 91.2234 934.232 Q94.3021 929.625 100.112 929.625 Z\" fill=\"#000000\" fill-rule=\"evenodd\" fill-opacity=\"1\" /><path clip-path=\"url(#clip390)\" d=\"M120.274 958.931 L125.158 958.931 L125.158 964.81 L120.274 964.81 L120.274 958.931 Z\" fill=\"#000000\" fill-rule=\"evenodd\" fill-opacity=\"1\" /><path clip-path=\"url(#clip390)\" d=\"M145.343 933.329 Q141.732 933.329 139.904 936.894 Q138.098 940.435 138.098 947.565 Q138.098 954.671 139.904 958.236 Q141.732 961.778 145.343 961.778 Q148.978 961.778 150.783 958.236 Q152.612 954.671 152.612 947.565 Q152.612 940.435 150.783 936.894 Q148.978 933.329 145.343 933.329 M145.343 929.625 Q151.154 929.625 154.209 934.232 Q157.288 938.815 157.288 947.565 Q157.288 956.292 154.209 960.898 Q151.154 965.482 145.343 965.482 Q139.533 965.482 136.455 960.898 Q133.399 956.292 133.399 947.565 Q133.399 938.815 136.455 934.232 Q139.533 929.625 145.343 929.625 Z\" fill=\"#000000\" fill-rule=\"evenodd\" fill-opacity=\"1\" /><path clip-path=\"url(#clip390)\" d=\"M100.76 625.609 Q97.1493 625.609 95.3206 629.174 Q93.515 632.716 93.515 639.845 Q93.515 646.952 95.3206 650.517 Q97.1493 654.058 100.76 654.058 Q104.395 654.058 106.2 650.517 Q108.029 646.952 108.029 639.845 Q108.029 632.716 106.2 629.174 Q104.395 625.609 100.76 625.609 M100.76 621.906 Q106.571 621.906 109.626 626.512 Q112.705 631.095 112.705 639.845 Q112.705 648.572 109.626 653.179 Q106.571 657.762 100.76 657.762 Q94.9502 657.762 91.8715 653.179 Q88.816 648.572 88.816 639.845 Q88.816 631.095 91.8715 626.512 Q94.9502 621.906 100.76 621.906 Z\" fill=\"#000000\" fill-rule=\"evenodd\" fill-opacity=\"1\" /><path clip-path=\"url(#clip390)\" d=\"M120.922 651.211 L125.807 651.211 L125.807 657.091 L120.922 657.091 L120.922 651.211 Z\" fill=\"#000000\" fill-rule=\"evenodd\" fill-opacity=\"1\" /><path clip-path=\"url(#clip390)\" d=\"M150.158 638.456 Q153.515 639.174 155.39 641.443 Q157.288 643.711 157.288 647.044 Q157.288 652.16 153.769 654.961 Q150.251 657.762 143.769 657.762 Q141.593 657.762 139.279 657.322 Q136.987 656.905 134.533 656.049 L134.533 651.535 Q136.478 652.669 138.793 653.248 Q141.107 653.827 143.631 653.827 Q148.029 653.827 150.32 652.091 Q152.635 650.355 152.635 647.044 Q152.635 643.989 150.482 642.276 Q148.353 640.54 144.533 640.54 L140.506 640.54 L140.506 636.697 L144.718 636.697 Q148.168 636.697 149.996 635.331 Q151.825 633.943 151.825 631.35 Q151.825 628.688 149.927 627.276 Q148.052 625.841 144.533 625.841 Q142.612 625.841 140.413 626.257 Q138.214 626.674 135.575 627.554 L135.575 623.387 Q138.237 622.646 140.552 622.276 Q142.89 621.906 144.95 621.906 Q150.274 621.906 153.376 624.336 Q156.478 626.744 156.478 630.864 Q156.478 633.734 154.834 635.725 Q153.191 637.693 150.158 638.456 Z\" fill=\"#000000\" fill-rule=\"evenodd\" fill-opacity=\"1\" /><path clip-path=\"url(#clip390)\" d=\"M99.9502 317.89 Q96.3391 317.89 94.5104 321.454 Q92.7049 324.996 92.7049 332.126 Q92.7049 339.232 94.5104 342.797 Q96.3391 346.339 99.9502 346.339 Q103.584 346.339 105.39 342.797 Q107.219 339.232 107.219 332.126 Q107.219 324.996 105.39 321.454 Q103.584 317.89 99.9502 317.89 M99.9502 314.186 Q105.76 314.186 108.816 318.792 Q111.895 323.376 111.895 332.126 Q111.895 340.852 108.816 345.459 Q105.76 350.042 99.9502 350.042 Q94.14 350.042 91.0614 345.459 Q88.0058 340.852 88.0058 332.126 Q88.0058 323.376 91.0614 318.792 Q94.14 314.186 99.9502 314.186 Z\" fill=\"#000000\" fill-rule=\"evenodd\" fill-opacity=\"1\" /><path clip-path=\"url(#clip390)\" d=\"M120.112 343.491 L124.996 343.491 L124.996 349.371 L120.112 349.371 L120.112 343.491 Z\" fill=\"#000000\" fill-rule=\"evenodd\" fill-opacity=\"1\" /><path clip-path=\"url(#clip390)\" d=\"M145.76 330.228 Q142.612 330.228 140.76 332.38 Q138.931 334.533 138.931 338.283 Q138.931 342.01 140.76 344.186 Q142.612 346.339 145.76 346.339 Q148.908 346.339 150.737 344.186 Q152.589 342.01 152.589 338.283 Q152.589 334.533 150.737 332.38 Q148.908 330.228 145.76 330.228 M155.042 315.575 L155.042 319.834 Q153.283 319.001 151.478 318.561 Q149.695 318.121 147.936 318.121 Q143.306 318.121 140.853 321.246 Q138.422 324.371 138.075 330.69 Q139.441 328.677 141.501 327.612 Q143.561 326.524 146.038 326.524 Q151.246 326.524 154.255 329.695 Q157.288 332.843 157.288 338.283 Q157.288 343.607 154.14 346.825 Q150.992 350.042 145.76 350.042 Q139.765 350.042 136.594 345.459 Q133.422 340.852 133.422 332.126 Q133.422 323.931 137.311 319.07 Q141.2 314.186 147.751 314.186 Q149.51 314.186 151.293 314.533 Q153.098 314.88 155.042 315.575 Z\" fill=\"#000000\" fill-rule=\"evenodd\" fill-opacity=\"1\" /><polyline clip-path=\"url(#clip392)\" style=\"stroke:#009af9; stroke-linecap:round; stroke-linejoin:round; stroke-width:4; stroke-opacity:1; fill:none\" points=\"2022.57,957.754 1948.89,987.339 1834.71,1030.04 1685.25,1079.25 1512.53,1124.92 1320.35,1159.22 1122.29,1174.18 929.936,1168.12 755.698,1146.04 609.65,1117.42 500.731,1092.67 432.395,1079.46 409.605,1083 431.679,1104.33 494.975,1139.85 594.442,1183.1 722.778,1224.11 875.176,1251.97 1040.04,1255.79 1214.25,1230.42 1388.15,1177.52 1555.87,1103.93 1706.88,1020.66 1824.96,942.541 1905.98,874.743 1935.75,828.618 1913.43,804.351 1838.88,801.965 1717.74,818.643 1556.8,850.343 1371.71,891.372 1173.14,938.06 976.706,987.514 796.616,1039.27 644.224,1095.13 530.453,1155.86 457.417,1220.12 418.143,1286.06 404.906,1348.19 409.283,1396.33 423.858,1423.59 443.655,1423.91 468.93,1396.87 503.337,1344.47 553.594,1271.82 629.844,1183.93 739.715,1088.93 884.698,994.208 1054.46,906.408 1237.2,827.259 1418.85,758.45 1580.04,704.047 1708.35,666.65 1790.13,650.163 1819.05,656.623 1793.1,687.059 1717.2,739.053 1598.38,810.251 1450.93,893.806 1284.46,985.038 1114.18,1075.04 946.295,1158.49 787.509,1228.75 644.074,1279.95 516.922,1310.74 413.917,1322.66 334.483,1323.11 282.367,1319.91 260.53,1319.48 267.409,1324.19 302.292,1332.53 362.725,1339.14 447.935,1336.27 554.898,1315.79 681.687,1272.9 831.44,1205.42 994.872,1120.63 1167.72,1025.34 1344.4,925.576 1506.44,832.726 1646.42,750.153 1745.48,686.943 1796.26,645.366 1792.41,627.639 1734.1,633.847 1625.87,662.246 1480.46,709.259 1311.17,771.74 1134.34,846.569 963.741,932.463 815.164,1026.26 694.95,1126.69 608.141,1225.93 550.421,1314.14 513.387,1380.61 487.279,1420.55 467.039,1430.03 451.337,1409.69 442.795,1362.8 448.522,1297.85 478.457,1222.46 541.541,1147.26 644.536,1076.84 790.542,1012.25 974.666,953.058 1180.23,899.317 1387.53,851.805 1577.77,813.259 1736.25,787.74 1850.39,780.138 1910.8,794.263 1915.8,831.928 1867.7,891.421 1774.52,967.6 1640.9,1056 1487.14,1139.72 1315.39,1211.11 1140.48,1256.1 971.32,1269.11 809.518,1251.76 663.878,1211.51 544.625,1161.13 462.429,1114.51 422.705,1080.46 431.003,1065.03 487.382,1068.4 590.824,1087.01 732.815,1112.97 906.925,1136.93 1105.41,1149.2 1319.28,1142.27 1529.19,1115.3 1716.88,1076.09 1874.33,1034.57 1989.81,1001.59 2057.87,984.648 2072.98,988.723 2036.12,1013.87 1950.73,1056.73 1825.53,1108.96 1669.34,1160.23 1489.56,1199.23 1297.14,1214.99 1103.74,1202.59 915.558,1164.27 750.61,1111.23 618.863,1056.58 526.591,1010.23 486.518,983.039 499.229,977.376 565.569,993.067 678.887,1025.08 831.306,1065.58 1016.36,1105.65 1218.57,1134.53 1432.95,1145.82 1639.94,1137.42 1823.05,1115.84 1969.7,1092.04 2073.63,1076.15 2130.83,1075.78 2137.45,1094.5 2097.26,1130.68 2014.96,1178.91 1899.17,1228.36 1757.4,1266.47 1599.17,1280.21 1431.17,1261.7 1257.76,1209.68 1086.05,1130.22 926.14,1034.96 796.216,941.491 704.667,859.034 663.029,796.331 677.606,757.784 749.378,743.424 874.76,751.297 1040.13,777.023 1233.14,816.464 1435,866.111 1628.64,925.088 1795.65,993.775 1922.28,1072.43 2003.3,1157.8 2045.49,1245.68 2058.49,1328.8 2052.67,1392.68 2037.36,1428.62 2017.89,1430.2 1994.37,1396.98 1962.14,1330.92 1914.36,1240.75 1840.83,1134.67 1730.34,1020.04 1584.16,909.836 1412.53,810.807 1231.17,725.738 1062.26,658.208 922.925,610.119 825.881,583.848 789.008,583.894 810.825,609.489 887.317,659.619 1010.09,732.121 1161.76,820.52 1329.62,920.977 1497.57,1026.29 1657.17,1131.34 1798.46,1226.21 1921.84,1303.94 2024.12,1354.5 2108.38,1376.45 2178.1,1373.98 2232.76,1353.46 2264.48,1325.11 2267.32,1297.66 2236.36,1277.09 2169.58,1262.99 2065.68,1250.54 1921.26,1231.18 1745.64,1196.7 1548.94,1142.98 1347.28,1073.89 1145.01,993.609 963.897,914.463 813.102,843.738 707.037,789.992 657.295,759.781 667.814,755.305 738.701,776.436 862.03,819.412 1024.77,877.959 1214.84,946.083 1414.58,1016.22 1611.86,1083.77 1793.15,1145.09 1951.55,1200.43 2080.97,1251.62 2172.94,1298.67 2229.26,1341.71 2255.27,1376.82 2259.73,1399.83 2248.37,1405.88 2222.77,1391.95 2180.47,1358.36 2113.86,1307.03 2012.73,1240.79 1875.42,1166.18 1705.89,1087.15 1514.39,1006.7 1308.08,925.449 1110.13,850.611 933.054,786.02 795.379,738.606 711.25,714.011 687.357,715.21 725.618,743.183 821.063,795.55 960.943,866.107 1132.22,948.13 1321.86,1034.06 1512.81,1113.99 1698.26,1182.61 1868.13,1234.59 2016.59,1269.31 2138.76,1290.52 2223.93,1304.46 2272.69,1318.43 2288.18,1335.88 2273.82,1355.47 2233.5,1371.1 2171.23,1373.72 2091.21,1355.45 1991.15,1311.95 1865.04,1241.85 1713.13,1151.29 1538.99,1048.94 1354.04,944.789 1167.32,844.009 1000.22,756.14 867.233,685.996 782.68,638.217 760.47,618.201 801.002,625.607 898.729,658.45 1042.94,713.579 1218.21,787.08 1402.54,873.089 1582.32,969.741 1740.28,1071.88 1871.77,1177.83 1969.73,1275.75 2038.38,1352.89 2088.05,1401.67 2127.21,1419.46 2159,1407.05 2181.24,1368.77 2185.77,1314.07 2162.04,1253.61 2100.75,1196.43 1995.04,1145.13 1840.63,1097.57 1641.4,1049.64 1419.5,999.657 1192.02,947.313 982.721,898.023 805.718,857.982 673.898,834.641 604.845,835.619 599.375,862.823 653.889,914.646 760.33,985.58 909.368,1067.16 1084.46,1144.65 1275.19,1205.35 1474.15,1238.11 1662.4,1237.28 1834.85,1209.06 1980.02,1166.02 2085.69,1123.63 2141.6,1095.11 2144.53,1086.66 2094.25,1098.93 1994.18,1127.13 1847.49,1162.34 1669.86,1189.85 1467.93,1197.5 1255.54,1177.19 1045.31,1130.07 850.783,1065.46 696.141,1001.29 588.792,949.097 537.671,917.753 548.195,911.854 621.147,931.439 749.489,971.203 920.063,1021.56 1120.49,1072.21 1341.89,1113.85 1563.5,1138.12 1775.93,1144.91 1951.17,1141.29 2080.17,1139.18 2159.76,1148.32 2189.21,1173.91 2171.37,1215.52 2110.91,1267.44 2019.18,1314.72 1905.82,1342.25 1779.53,1337.33 1641.73,1294.17 1491.27,1212.85 1325.69,1097.49 1162.23,968.55 1014.26,841.783 899.583,731.009 831.832,643.02 821.815,581.806 874.019,548.444 985.792,541.898 1141.33,559.905 1318.33,599.707 1493.54,661.201 1640.94,745.02 1741.37,849.192 1792.24,971.592 1798.81,1105.71 1771.96,1236.3 1725.52,1343.53 1670.57,1410.58 1613.13,1427.37 1554.11,1391.65 1491.77,1307.28 1423.27,1183.28 1346.11,1031.3 1261.86,866.786 1177.62,704.982 1106.8,558.619 1067.5,441.257 1068.81,352.614 1112.9,290.651 1193.14,252.821 1294.76,237.455 1392.08,244.841 1460.72,274.945 1488.33,328.976 1471.82,408.869 1416.76,516.303 1334.63,652.314 1240.51,813.993 1152.36,984.413 1077.82,1146.42 1015.7,1285.45 963.763,1382.95 916.988,1430.71 872.586,1425.18 830.768,1369.26 795.576,1271.83 775.511,1145.66 783.784,1005.89 834.088,870.895 932.866,752.901 1078.52,655.172 1255.31,579.908 1429.35,529.933 1573.85,504.823 1669.16,505.73 1703.64,534.401 1675.06,591.503 1590.05,675.75 1460.97,784.262 1307.4,908.624 1147.13,1038.96 990.656,1165.19 846.307,1271.8 721.669,1341.65 612.086,1371.59 515.074,1364.57 432.779,1329.33 372.637,1278.54 347.774,1228.81 366.549,1190.5 434.112,1167.04 551.613,1155.26 716.793,1146.83 932.176,1129.88 1167.09,1096.66 1401.19,1047.66 1618.16,990.219 1797.01,936.92 1924.82,898.617 1990.98,883.789 1990.46,896.6 1925.2,936.001 1803.25,995.806 1636.05,1065.73 1437.97,1131.91 1225.41,1179.92 1006.65,1200.76 797.129,1192.01 622.873,1164.77 491.152,1134.93 409.91,1116.17 384.42,1117.13 415.257,1139.75 498.213,1178.91 629.046,1223.99 791.643,1256.07 975.336,1259.69 1169.89,1226.53 1369.43,1157.64 1559.39,1065.08 1721.52,967.374 1841.05,879.661 1903.41,813.492 1898.52,775.505 1823.87,767.075 1685.29,785.135 1492.5,824.667 1274.02,877.082 1051.87,937.057 844.964,1003.35 668.762,1078.68 545.097,1159.94 471.503,1244.66 437.489,1325.72 429.93,1390.12 436.266,1425.74 449.432,1426.1 469.24,1390.4 501.941,1323.47 559.132,1233.97 655.295,1131.91 798.093,1028.98 985.925,931.199 1199.82,843.791 1412.54,770.572 1601.16,714.624 1743.73,681.126 1823.72,675.135 1833.1,699.544 1773.41,753.759 1654.59,833.347 1491.68,930.635 1300.82,1035.66 1104.55,1132.86 912.199,1212.37 728.847,1266.19 569.558,1289.46 439.094,1289.93 343.18,1280.58 289.935,1274.85 281.992,1280.54 316.553,1297.27 389.245,1317.54 494.845,1328.22 624.935,1315.1 777.284,1269.28 952.921,1188.34 1144.9,1080.66 1337.78,962.691 1517.59,847.314 1665.1,746.345 1759.9,669.669 1787.1,623.439 1741.82,609.153 1629.43,624.868 1464.43,666.716 1267.05,731.144 1066.37,814.221 887.725,914.041 748.662,1029.19 658.334,1151.27 609.373,1269.48 589.002,1365.62 583.151,1424.63 582.98,1437.88 586.49,1404.14 598.34,1329.19 629.215,1223.96 695.3,1100.55 806.642,978.695 966.378,866.853 1164.89,769.434 1370.58,692.4 1555.73,637.327 1695.48,607.561 1771.73,606.894 1776.19,637.542 1711.3,698.727 1588.76,786.195 1426.15,892.555 1242.43,1008.16 1052.59,1122.55 872.711,1220.68 707.386,1291.97 564.958,1327.99 446.313,1332.86 353.802,1317.65 294.908,1296.62 277.491,1282.34 304.832,1280.07 375.561,1286.42 486.783,1291.13 636.143,1279.71 818.176,1238.63 1022.03,1164.58 1231.67,1067.59 1435.72,960.22 1616.93,856.377 1754.56,769.204 1830.11,708.664 1832.6,679.912 1760.86,683.352 1623.75,715.536 1438.48,770.75 1227.28,843.096 1012.47,928.895 821.064,1023.71 667.662,1126.03 560.098,1229.8 493.867,1323.3 456.381,1391.38 433.57,1425.6 418.432,1422.16 411.598,1383.64 421.145,1318.37 461.275,1238.07 546.729,1155.56 687.787,1077.37 886.623,1003.81 1119.64,936.34 1360.82,874.892 1583.85,823.352 1763.02,789.288 1878.58,780.628 1920.14,802.58 1887.33,855.694 1788.79,934.914 1639.27,1029.66 1455.59,1124.99 1252.27,1203.87 1043.18,1249.82 846.279,1255.14 668.529,1226.95 523.658,1181.52 427.06,1139.02 387.676,1113.84 410.16,1112.44 493.264,1132.75 630.305,1164.99 811.194,1193.73 1025.11,1201.9 1256.59,1177.29 1487.99,1120.26 1697.6,1044.61 1870.58,966.698 1970.52,912.488 1999.38,886.455 1953.49,891.709 1837.79,924.694 1664.63,976.378 1451.03,1034.44 1215.28,1086.44 974.387,1123.52 745.547,1143.65 561.894,1153.51 433.766,1166.53 363.775,1193.03 349.657,1236.52 384.31,1291.42 455.518,1342.86 550.15,1371.94 659.331,1363.51 782.774,1310.63 925.158,1214.14 1091.96,1081.64 1272.38,934.443 1444.32,795.254 1587.05,675.948 1678.62,584.557 1701.27,525.635 1648.92,501.815 1530.38,509.455 1364.76,545.437 1179.54,607.952 1005.3,698.062 874.114,813.942 798.711,951.416 775.102,1102.46 790.508,1247.73 827.395,1361.26 872.84,1425.14 920.962,1428.85 971.525,1370.86 1028.05,1258.43 1095.67,1105.82 1178.19,931.257 1274.33,753.144 1373.86,586.983 1451.37,452.498 1487.32,352.856 1471.5,285.715 1405.47,247.883 1303.54,236.961 1191.04,253.245 1102.74,299.229 1064.39,373.621 1077.47,479.809 1134.75,618.955 1221.21,788.517 1318.16,976.085 1407.7,1153.05 1486.11,1298.14 1555.81,1393.58 1620.7,1428.23 1682.95,1399.68 1740.47,1314.71 1784.94,1187.64 1800.02,1037.26 1765.97,893.651 1672.84,771.137 1521.58,673.819 1326.37,601.579 1125.91,556.811 958.781,540.545 851.661,555.156 819.034,603.634 863.034,687.391 969.693,799.373 1119.38,931.455 1291.6,1070.24 1470.08,1198.26 1640.15,1292.95 1794.13,1339.75 1934.09,1338.81 2054.08,1300.5 2144.29,1243.4 2187.58,1190.33 2174.09,1154.74 2098.25,1140.3 1955.64,1141.61 1763.77,1145.23 1529.36,1135.66 1267.52,1101.58 1019.09,1047.6 804.542,987.476 643.806,937.714 552.445,911.937 539.103,917.862 604.195,956.085 738.206,1018.76 922.908,1090.51 1141.38,1153.83 1378.53,1191.89 1614.28,1194.47 1828.33,1166.59 1997.64,1127.09 2108.75,1096.17 2150.48,1088.46 2123.06,1107.79 2031.5,1148.97 1885.39,1198.33 1694.13,1235.93 1473.68,1239.04 1250.2,1198.62 1027.84,1120.01 834.428,1025.03 688.502,935.292 608.194,867.728 607.108,832.258 688.503,831.727 842.53,860.303 1051.75,908.279 1293.23,964.98 1541.66,1022.16 1772.67,1077.09 1964.52,1133.47 2093.25,1194.16 2162.74,1261.89 2184.23,1332.77 2172.15,1390.52 2142.29,1419.27 2102.16,1409.2 2047.11,1354.99 1971.04,1267.41 1855.59,1155.1 1687.65,1030.62 1477.95,910.626 1252.09,804.342 1037.84,716.53 869.97,655.462 772.646,627.112 758.104,634.95 827.236,679.39 967.737,756.117 1154.79,855.634 1363.48,968.176 1571.08,1083.14 1761.79,1190.12 1926.91,1278.25 2062.87,1337.23 2168.02,1362.91 2243.82,1362.5 2287.42,1348.46 2291.64,1333.27 2251.45,1321.92 2165.95,1310.77 2033.46,1288.01 1854.88,1239.91 1645.67,1163.29 1418.45,1064.53 1188.94,955.362 979.803,850.366 816.595,763.651 722.352,706.401 713.467,686.133 790.505,703.101 941.857,752.517 1147.61,827.165 1378.32,917.634 1604.18,1015.67 1806.99,1118.48 1964.24,1217.31 2076.9,1306.94 2149.75,1373.7 2196.18,1408.04 2226.66,1407.83 2239.31,1378.24 2225.51,1329.73 2169,1273.39 2059.37,1218.18 1888.29,1160.7 1656.23,1093.59 1400.96,1018.76 1144,938.973 913.814,864.797 741.587,810.637 645.344,786.765 636.41,799.8 713.663,848.97 862.366,925.815 1062.41,1016.95 1291.97,1105.69 1530.32,1175.39 1759.83,1215.19 1967.62,1225.75 2121.56,1221.35 2212.32,1222.09 2242.57,1239.39 2215.06,1274.37 2139.85,1314.98 2027.23,1342.39 1889.85,1335.25 1721.64,1277.33 1539.05,1174.91 1335.97,1038.22 1137.05,894.973 965.094,764.261 845.924,659.52 804.013,591.423 848.009,561.993 974.092,569.372 1158.7,609.118 1369.49,677.033 1570.64,772.533 1727.56,895.512 1820.01,1037.55 1855.59,1191.02 1850.17,1322.96 1825.22,1411.55 1793.75,1438.63 1759.38,1399 1717.02,1297.39 1657.1,1150.9 1567.23,980.048 1438.6,804.205 1280.69,644.54 1128.39,518.967 1013.78,429.298 964.281,376.859 991.561,361.055 1090.68,380.225 1236.86,432.63 1396.12,518.603 1532.46,641.63 1614.78,795.835 1640.64,974.917 1621.69,1156.58 1577.62,1309.55 1523.55,1407.85 1467.44,1433.97 1409.59,1383.5 1349.58,1265.36 1285.75,1098.38 1219.61,904.902 1159.34,707.975 1121.36,528.688 1124.36,386.086 1174.86,281.726 1258.44,215.328 1349.37,180.122 1413.26,175.118 1427.43,199.671 1389.8,255.334 1313.33,346.346 1223.98,476.204 1147.74,648.927 1103.17,852.723 1089.77,1060.36 1095.96,1242.45 1111.35,1376.16 1130.31,1441.64 1149.47,1425.58 1169.93,1333.24 1193.66,1180.73 1223.08,991.872 1259.44,790.164 1300.07,596.909 1336.5,427.869 1354.97,291.474 1343.12,195.848 1300.85,134.49 1248.85,107.18 1209.25,108.501 1202.11,138.118 1228.53,200.039 1275.8,298.785 1324.5,443.127 1355.99,628.82 1365.68,837.796 1359.17,1056.93 1344.47,1243 1326.57,1378.52 1307.77,1442.43 1289.18,1423.85 1269.93,1324.77 1251.24,1167.46 1233.95,973.655 1221.32,766.682 1218.91,569.19 1232.74,396.222 1262.72,264.027 1300.17,169.533 1326.2,113.214 1326.68,90.3155 1301.46,96.2544 1263.57,132.028 1232.17,202.419 1222.28,320.816 1236.73,481.198 1263.8,675.013 1292.82,887.958 1318.36,1098.39 1339.54,1280.16 1357.12,1401.09 1373.5,1445.72 1389.07,1406.39 1403.29,1291.09 1412.48,1121.64 1410.67,923.366 1390.17,720.413 1345.22,533.417 1278.84,376.563 1210.59,259.25 1169.62,183.443 1172.94,143.631 1219.96,133.792 1290.74,153.15 1357.17,204.697 1390.05,291 1380.67,418.495 1336.07,590.825 1275.42,797.715 1217.59,1011.63 1168.78,1206.93 1127.49,1357.45 1091.65,1434.31 1056.89,1428.47 1024.75,1343.29 999.172,1192.5 992.136,1007.89 1018.41,812.998 1093.15,629.607 1211.74,480.968 1348.28,371.205 1458.96,302.278 1511.62,270.684 1490.66,275.326 1403.2,315.428 1276.11,391.425 1142.25,510.907 1046.84,668.53 1004.15,859.768 1009.31,1070.22 1042.83,1251.86 1088.36,1382.57 1136.72,1437.76 1186.11,1408.3 1236.38,1300.65 1289.18,1132.37 1341.7,931.835 1386.33,726.13 1409.34,536.719 1394.23,378.21 1338.25,265.484 1258.43,191.963 1185.51,152.934 1153.19,146.845 1171.88,171.623 1233.26,229.249 1313.33,325.402 1381.19,466.674 1414.4,653.602 1410.98,867.903 1384.53,1081.85 1347.72,1267.83 1308.32,1394.73 1268.81,1441.81 1229.8,1401.67 1190.95,1281.66 1155.97,1106.43 1131.16,901.777 1128.16,693.683 1159.39,508.455 1227.6,359.06 1313.94,252.652 1384.25,187.017 1409.88,156.999 1381.31,159.073 1307.18,194.419 1221.26,264.434 1156.24,375.287 1134.23,530.938 1155.89,729.821 1204.66,948.297 1262.61,1156.77 1320.22,1323.42 1375.02,1420.26 1427.99,1431.81 1480.04,1357.26 1526.43,1214.27 1558.05,1025.58 1556.82,826.56 1504.19,640.495 1396.59,490.195 1252.69,378.839 1120.94,310.319 1041.88,280.96 1039.86,290.057 1112.69,337 1238.95,423.764 1378.74,550.805 1495.2,721.003 1562.88,924.519 1582.44,1130.01 1572.8,1302.61 1550.61,1413.97 1525.18,1442.57 1497.82,1382.7 1466.13,1247.99 1423.3,1061.38 1363.77,852.912 1286.23,646.276 1202.08,461.467 1144.77,324.562 1137.59,232.29 1185.66,180.759 1271.32,163.101 1360.87,178.117 1414.05,227.333 1412.25,315.884 1360.08,446.777 1278.03,626.233 1195.27,842.257 1130.72,1065.45 1086.35,1256.9 1052.76,1393.55 1025.06,1443.63 999.103,1404.92 976.99,1283.45 969.39,1109.43 991.851,907.728 1061.08,711.873 1181.87,542.411 1329.61,413.609 1457.09,329.153 1521.3,287.922 1505.15,286.375 1412.95,324.18 1276.08,400.675 1133.36,521.899 1031.82,685.54 989.288,884.032 997.834,1094.55 1036.01,1278.08 1085.33,1399.94 1138.18,1437.87 1191.14,1383.25 1245.9,1249.13 1305.39,1051.96 1360.71,838.219 1402.5,627.325 1410.78,444.753 1371.2,306.763 1294.41,216.289 1209.77,164.674 1156.24,148.744 1157.12,166.842 1210.23,219.806 1292.75,312.969 1371.18,454.959 1415.43,645.199 1419.35,870.876 1396.21,1093.12 1360.03,1286.57 1321.35,1408.28 1282.55,1441.2 1243.29,1378.87 1205.09,1236.16 1170.89,1040.92 1148.36,822.771 1150.31,613.514 1188.13,433.353 1259.7,295.314 1338.82,203.001 1388.15,152.658 1385.35,138.515 1332.7,157.561 1252.06,213.343 1182.16,311.602 1152.85,457.181 1169.2,651.889 1215.94,878.397 1272.35,1102.68 1327.67,1290.9 1379.62,1410.14 1428.78,1437.42 1476.5,1371.4 1519.99,1225.23 1547.52,1031.86 1541.74,822.93 1482.73,627.918 1368.15,471.021 1223.68,357.647 1102.14,290.155 1044.99,264.758 1072.31,280.857 1171.55,337.296 1309.11,435.968 1441.39,582.602 1528.82,780.713 1554.95,1000.15 1539.46,1206.39 1504.36,1362.53 1463.54,1437.29 1421.51,1417.09 1376.94,1304.85 1327.84,1124.78 1273.16,909.735 1217.11,688.694 1174.81,490.266 1167.81,330.448 1207.55,222.511 1279.4,158.191 1350.46,130.923 1383.69,138.59 1364.79,181.401 1303.18,265.153 1228,398.006 1172.48,584.547 1152.9,810.34 1161.88,1042.34 1185.83,1249.69 1214.89,1392.6 1244.6,1444.21 1274.3,1396.73 1304.3,1260.6 1333.26,1062.09 1355.88,839.527 1363.67,618.415 1345.98,428.971 1299.71,280.345 1241.62,179.841 1203.01,123.932 1205.37,105.706 1247.01,121.414 1306.23,174.358 1350.17,272.918 1356.52,424.329 1328.22,628.623 1284.44,864.393 1241.3,1096.58 1202.95,1294.4 1169.58,1416.08 1138.46,1440.44 1108.6,1366.13 1083.25,1210.6 1071.71,999.874 1089.51,780.052 1151.35,573.667 1254.51,406.838 1365.3,289.748 1436.68,220.807 1439.24,193.953 1367.64,207.662 1253.28,263.736 1150.28,363.542 1097.18,511.526 1104.88,709.99 1159.79,944.404 1233.02,1166.26 1308.08,1337.31 1380.75,1425.55 1451.89,1413.53 1523.21,1299.52 1581.32,1114.68 1605.71,906.287 1571.1,705.471 1463,542.802 1297.73,425.222 1127.93,354.325 1014.68,329.511 993.552,350.838 1069.55,420.079 1215.54,537.072 1382.98,698.147 1529.88,900.191 1627.62,1115.88 1680.74,1300.17 1710.58,1415.21 1732.94,1440.24 1751.4,1373.28 1756.59,1232.42 1726.48,1047.74 1632.86,855.534 1464.47,687.175 1248.5,558.112 1050.07,475.816 924.868,441.03 906.185,456.225 996.213,521.814 1169.5,635.842 1374.82,788.791 1566.21,970.838 1716.93,1165.58 1815.82,1323.66 1885.33,1414.31 1943.14,1423.75 1991.38,1357.62 2014.2,1239.72 1979.02,1102.47 1856.08,981.401 1638.25,886.317 1346.86,814.078 1046.36,765.654 803.015,749.57 672.744,779.613 667.993,860.813 773.882,985.616 958.092,1127.8 1182.39,1246.16 1416.45,1301.02 1641.34,1277.76 1844.18,1192.66 1994,1085.18 2052.49,999.822 2000.45,957.257 1837.54,956.799 1583.84,982.076 1272.94,1011.6 946.458,1031.69 672.047,1047.05 495.513,1077.99 424.168,1139.8 446.451,1229.29 537.139,1321.39 668.557,1375.17 817.756,1355.1 984.516,1254 1175.59,1086.34 1383.23,885.09 1557,705.012 1655.72,568.57 1648.33,485.097 1531.29,453.918 1334.19,469.822 1112.85,530.9 939.033,639.593 858.637,794.663 870.661,987.807 950.229,1191.8 1058.23,1346.58 1172.62,1412.84 1287.91,1374.31 1403.03,1240.98 1509.98,1045.41 1586.25,829.66 1595.28,635.873 1514.36,492.501 1355.83,399.599 1167.23,353.543 1023.39,355.018 973.01,405.58 1025.85,507.511 1158.28,659.42 1328.18,853.475 1496.22,1072.34 1630.62,1264.06 1735.94,1386.8 1827.04,1419.54 1908.9,1363.5 1969.1,1243.12 1975.92,1097.12 1892.57,967.233 1704.16,870.355 1425.9,803.827 1111.41,763.466 847.745,755.153 687.519,789.685 651.387,874.668 728.961,1003.61 889.461,1151.03 1099.05,1274.66 1319.66,1324.84 1536.43,1286.52 1737.77,1176.33 1894.43,1034.17 1955.99,914.852 1897.51,843.206 1718.48,820.401 1445.71,833.742 1127.66,869.44 825.69,925.232 620.363,1005.1 524.539,1115.1 522.368,1244.78 582.227,1361.23 669.547,1415.82 766.169,1381.79 878.085,1262.16 1020.86,1079.66 1205.39,866.852 1402.1,670.783 1553.82,522.013 1613.33,428.441 1558.95,390.217 1405.92,403.138 1203.82,464.085 1021.11,576.217 919.584,738.473 910.073,943.119 970.571,1162.83 1062.82,1336.5 1162.47,1419.3 1262.71,1391.34 1363.21,1261.05 1458.88,1060.32 1531.05,832.417 1545.03,617.872 1473.93,457.916 1330.3,352.176 1162.7,295.949 1048.4,289.931 1030.62,333.816 1110.33,429.526 1253.87,578.439 1410.99,779.129 1537.99,1017.41 1614.44,1234.53 1660.24,1387.07 1694.4,1442.04 1724.5,1390 1742.92,1248.22 1726.04,1053.92 1640.39,849.554 1469.9,673.14 1242.19,540.693 1035.21,461.116 916.595,435.937 924.103,469.878 1048.69,559.216 1246.04,698.057 1460.52,877.615 1647.54,1085.37 1776.72,1272.82 1863.57,1394.26 1932.53,1426.87 1991.28,1371.23 2024.61,1252.09 1994.73,1109.57 1865.78,985.974 1624.9,890.438 1303.06,820.034 988.277,776.548 754.728,769.957 646.491,814.769 674.623,915.92 813.83,1055.23 1024.28,1196.76 1269.38,1290.45 1512.59,1296.78 1741.2,1220.54 1927.54,1098.79 2020.04,990.468 1989.99,927.873 1830.06,916.051 1557.44,939.878 1222.42,975.32 877.849,1009.44 615.379,1048.39 467.374,1111.85 431.629,1208.51 483.176,1315.18 586.306,1389.62 707.974,1385.59 847.4,1292.29 1018.36,1123.61 1230.06,911.93 1443.47,712.995 1599.34,560.539 1647.97,466.511 1566.33,432.95 1381.88,455.594 1155.26,529.259 962.237,658.974 868.254,838.474 871.609,1053.44 940.657,1262.6 1033.78,1396.79 1130.89,1419.33 1230.08,1325.19 1332.78,1137.32 1431.27,898.074 1496.69,659.815 1488.41,467.283 1393.85,337.759 1246.01,264.112 1113.7,241.572 1063.26,270.331 1113.64,352.61 1236.86,491.308 1381.02,689.9 1497.24,943.667 1558.31,1184.96 1586.44,1365.52 1602.24,1443.68 1614.92,1400.95 1619.28,1252.26 1596.91,1038.55 1521.28,806.159 1375.4,593.754 1194.74,434.689 1055.97,338.3 1015.71,300.233 1091.26,318.104 1248.46,389.847 1422.51,518.185 1544.08,706.335 1581.48,942.02 1552.42,1182.11 1493.73,1362.07 1427.61,1436.33 1357.7,1381 1287.84,1216.47 1216.06,984.071 1153.99,733.359 1128.07,506.821 1167.62,332.482 1263.6,224.103 1367.37,169.323 1415.91,164.2 1382.02,207.165 1287.97,302.701 1183.6,464.65 1123.97,692.358 1120.66,957.631 1151.26,1206.63 1195.1,1386.43 1239.36,1442.2 1283.89,1368.18 1328.44,1185.42 1367.88,942.72 1389.48,689.552 1373.66,464.469 1309.21,291.269 1225.81,183.606 1176.91,132.227 1194.88,129.165 1266.96,172.208 1348.14,271.394 1385,436.414 1364.25,670.109 1310.54,940.165 1251.08,1194.36 1195.74,1377.05 1144.47,1441.27 1095.26,1374.61 1050.99,1192.49 1031.24,955.676 1061.65,711.716 1165.19,500.152 1317.23,350.018 1445.32,263.545 1484.01,235.484 1414.71,262.539 1275.2,344.103 1131.43,488.13 1050.34,695.421 1048.19,955.457 1097.54,1203.64 1166.18,1382.06 1235.82,1436.23 1306.18,1357.01 1374.89,1170.12 1433.27,924.81 1458.24,673.806 1418.78,458.562 1312.44,307.783 1187.14,218.816 1116.1,186.478 1139.49,206.743 1242.02,281.025 1366.27,416.516 1447.9,620.394 1459.87,885.062 1422.41,1147.93 1365.86,1351.89 1307.14,1438.51 1248.15,1388.68 1190.49,1220.24 1140.42,979.605 1116.53,720.721 1146.25,490.781 1238.24,320.273 1352.51,214.236 1417.42,168.212 1395.13,174.295 1300.18,232.038 1188.56,349.946 1125.03,536.304 1132.02,790.009 1185.89,1064.14 1253.94,1294.44 1324.45,1425.54 1390.73,1414.78 1454.82,1275 1505.55,1050.75 1518.15,796.753 1457.99,564.344 1320.12,391.05 1162.29,284.64 1071.16,241.665 1091.72,257.091 1210.19,330.178 1368.39,468.259 1487.52,676.974 1525.98,937.568 1502.58,1194.14 1453.47,1378.66 1398.48,1440.33 1342.68,1362.11 1283.95,1169.09 1223.75,914.076 1174.66,651.632 1164.1,426.328 1215.34,263.505 1305.92,169.167 1375.66,131.643 1374.7,145.37 1304.29,213.293 1214.35,344.282 1161.41,552.077 1166.38,822.553 1206.52,1102.44 1257,1327.22 1307.31,1436.73 1356.58,1403.59 1403.89,1240.61 1439.69,998.099 1443.56,734.91 1390.25,499.285 1280.24,323.269 1169.48,216.296 1129.33,171.574 1185.04,182.958 1299.77,249.015 1403.44,380.294 1436.19,582.445 1394.82,856.299 1319.14,1131.66 1239.09,1343.94 1162.98,1434.87 1087.8,1380 1021.18,1204.08 981.78,959.377 1008.72,711.468 1132.44,507.389 1319.96,371.675 1483.98,302.026 1532.75,299.574 1451.99,360.915 1280.94,489.54 1103.16,684.476 985.71,938.28 944.784,1200.51 947.528,1384.72 962.545,1444.54 981.118,1361.91 1012.93,1166.67 1081.24,908.655 1201.86,653.384 1359.62,437.64 1465.87,302.849 1464.53,238.56 1355.29,234.925 1197.51,290.245 1083.8,410.839 1070.32,603.722 1146.77,862.823 1263.1,1136.42 1380.72,1346.4 1488.08,1425.98 1589.79,1362.79 1678.08,1184.48 1716.8,954.319 1651.71,737.522 1463.21,580.318 1193.22,483.62 966.48,455.506 887.143,500.582 965.424,618.269 1159.1,799.666 1398.4,1018.76 1632.14,1234.62 1820.96,1365.25 1975.09,1381.37 2097.18,1307.84 2153.74,1198.68 2090.59,1116 1888.89,1073.46 1563.41,1045.96 1161.12,1002.36 809.229,950.964 577.673,929.533 522.75,972.611 628.219,1076.01 848.64,1198.66 1137.35,1274.25 1442.99,1245.4 1726.5,1124.37 1925.61,982.58 1979.82,886.391 1855.99,861.767 1581.19,895.886 1221.18,955.525 853.959,1019.92 572.59,1094.35 435.359,1193.67 419.748,1313.1 477.492,1403.51 564.094,1405.67 673.674,1302.94 837.28,1120.98 1094.88,898.793 1395.74,703.126 1627.18,572.972 1714.07,517.23 1625.98,540.013 1396.13,634.662 1114.05,786.57 868.891,986.17 717.501,1204.35 646.462,1376.38 609.522,1437.83 584.442,1376.91 591.508,1226.57 686.151,1041.29 918.754,874.158 1260.19,748.57 1599.61,672.414 1798.18,666.114 1808.39,740.392 1650.93,885.136 1390.69,1063.11 1087.72,1220.49 792.398,1294.47 543.505,1271.48 381.821,1209.08 347.426,1174.38 456.344,1188.86 690.541,1220.16 1012.41,1206.64 1373.4,1111.94 1697.86,971.327 1902.26,855.248 1930.4,809.435 1773.79,841.272 1477.35,925.966 1112.7,1027.03 766.677,1116.12 500.663,1196.44 363.176,1281.65 333.926,1367.06 366.793,1414.5 431.139,1385.05 541.156,1277.48 747.326,1116.09 1065.19,942.367 1415.02,793.104 1698.18,689.876 1823.68,658.748 1754.05,712.129 1520.58,837.6 1205.92,998.842 890.34,1154.6 619.639,1271.51 412.565,1331.34 285.631,1345.24 254.405,1347.98 317.275,1351.11 470.601,1325.7 714.112,1232.78 1036.79,1073.88 1379.75,896.843 1670.76,744.305 1813.84,658.732 1756.62,661.019 1524.63,741.357 1194.23,876.47 876.192,1035.82 628.957,1206.28 478.689,1350.62 397.934,1414.48 349.618,1391.28 347.881,1310.03 444.222,1216.61 678.893,1132.9 1048.18,1039.99 1447.03,934.905 1771.08,846.253 1936.04,816.216 1903.89,867.866 1699.52,986.308 1387.77,1122.21 1033.16,1212.69 701.917,1218.91 457.198,1175.89 356.479,1156.24 410.795,1191.45 596.171,1253.74 876.612,1273.44 1199.87,1192.12 1534.65,1021.26 1781.77,848.759 1867.42,738.246 1753.5,713.62 1471.21,762.976 1112.32,860.168 785.385,992.051 578.906,1155.45 503.513,1319.8 499.147,1424.74 516.922,1414.45 559.636,1295.89 678.306,1114.36 930.428,925.44 1285.47,769.249 1617.21,666.507 1795.99,640.072 1770.27,702.286 1567.31,841.893 1265.24,1021.91 938.698,1192.41 651.392,1294.16 428.187,1313.07 295.646,1293.08 282.38,1290.67 385.486,1311.51 588.209,1308.21 868.968,1222.78 1210.23,1049.62 1537.59,855.283 1759.91,704.162 1795.38,636.454 1628.34,658.116 1320.7,750.761 981.924,893.129 709.618,1081.87 574.2,1275.28 526.869,1409.75 509.632,1427.62 512.495,1329.73 580.897,1163.32 784.807,989.326 1131.13,844.954 1528.48,738.577 1791.5,700.756 1854.68,748.336 1717.83,880.128 1445.5,1057.67 1118.76,1213.02 793.701,1279.17 528.247,1246.96 367.682,1186.8 363.913,1171.53 515.7,1206.2 792.035,1236.79 1149.28,1190.35 1524.31,1051.71 1811.93,897.287 1926.78,802.738 1828.34,798.178 1545.8,868.55 1166.54,973.981 796.435,1081.91 510.414,1195.04 378.687,1308.87 353.261,1399.56 376.374,1416.74 434.304,1343.05 573.232,1203.25 857.147,1036.89 1246.2,880.953 1613.54,759.821 1834.53,706.292 1835.27,746.283 1636.23,870.727 1315.83,1037.19 965.275,1184.2 642.683,1263.85 401.765,1275.25 287.629,1277.12 310.545,1310.81 443.524,1345.82 660.009,1312.21 941.567,1171.93 1282.41,957.65 1590.39,755.482 1759.22,622.023 1713.2,586.057 1472.62,640.379 1137.27,764.812 838.536,947.051 668.064,1169.41 615.564,1364.34 610.842,1439.97 619.861,1366.74 671.16,1181.76 836.606,955.876 1143.49,760.833 1492.21,627.759 1722.65,575.573 1735.88,624.603 1542.05,764.184 1236.04,962.809 920.694,1167.17 652.185,1314.79 447.8,1357.56 314.446,1321.99 287.994,1279.22 398.128,1267.18 642.035,1251.46 1003.72,1164.44 1396.09,1004.25 1721.09,839.561 1875.18,739.934 1797.54,739.098 1521.16,823.722 1145.17,954.137 785.399,1095.67 522.093,1235.21 381.555,1356.19 328.946,1413.64 323.31,1386.01 386.463,1297.42 581.846,1185.92 943.165,1058.29 1365.53,923.235 1725.75,809.548 1903.39,768.101 1843.94,826.082 1583.01,964.059 1223.13,1115.68 848.153,1215.16 524.958,1236.01 338.022,1230.85 314.687,1263.27 430.903,1324.05 642.75,1335.38 914.583,1229.21 1252.68,1011.65 1572.69,780.079 1744.91,622.854 1689.62,566.977 1429.99,610.716 1075.02,736.546 801.459,932.113 690.145,1172.36 695.058,1378.04 736.663,1437.31 790.791,1323.05 889.951,1084.97 1089.95,805.621 1373.4,569.172 1581.16,432.111 1593.62,396.685 1404.53,462.006 1132.39,616.406 923.738,860.364 855.04,1152.89 876.767,1379.31 922.833,1437.32 976.002,1301.21 1062.64,1025.46 1209.64,717.984 1395.88,453.529 1489,298.632 1418.31,241.023 1233.99,268.302 1078.88,387.544 1071.16,605.406 1186.96,913.551 1341.04,1225.24 1481.57,1406.46 1609.93,1389.88 1722.59,1195.73 1756.41,931.937 1625.95,703.953 1329.63,561.346 1005.43,505.417 849.806,548.303 925.042,696.452 1165.22,924.839 1462.93,1172.02 1741.43,1335.7 1972.19,1345.87 2137.52,1249.88 2167.31,1153.39 2003.17,1117.95 1661.94,1111.86 1193.87,1065.16 780.213,979.387 545.584,931.361 552.706,976.521 773.551,1097.56 1124.4,1210.04 1523.54,1218.26 1874.14,1117.88 2067.69,1017.05 2032.01,1000.4 1779.02,1061.68 1380.58,1128.7 934.171,1127.82 576.407,1075.05 426.423,1064.78 498.046,1136.43 742.335,1240.99 1087.59,1268.75 1457.96,1152.79 1774.89,957.858 1910.36,809.705 1789.91,767.652 1453.96,817.768 1030.3,917.386 673.465,1050.83 493.476,1221.4 468.159,1379.44 503.179,1430.17 566.546,1328.3 709.006,1124.35 1009.27,896.875 1405.03,714.858 1707.44,615.089 1776.05,623.614 1595.69,742.085 1253.39,941.369 903.263,1148.93 612.671,1305.39 400.75,1359.54 280.854,1335.1 286.098,1306.89 445.442,1294.57 749.13,1234.56 1154.77,1076.88 1552.41,880.182 1812.75,731.228 1814.19,692.687 1554.96,768.443 1163.21,911.738 787.327,1082.3 528.561,1257.22 400.707,1388.63 345.872,1412.55 342.913,1337.72 457.724,1224.7 755.599,1113.13 1208.18,985.308 1643.74,859.418 1901.57,796.04 1892.64,842.503 1643.21,983.821 1258.68,1142.96 850.996,1225.3 513.871,1209.43 345.494,1185.46 379.162,1224.71 581.601,1292.45 893.618,1278.85 1261.16,1120.4 1615.41,885.486 1807.7,701.312 1724.56,641.592 1405.69,690.901 1005.21,819.154 708.387,1018.66 606.743,1253.11 620.971,1418.21 664.224,1409.55 737.128,1229.32 911.406,960.088 1234.77,701.912 1557.9,535.326 1688.08,483.068 1557.21,549.996 1253.5,719.447 939.023,968.043 733.767,1245.8 635.173,1415.47 569.772,1404.14 543.259,1243.24 652.786,1032.76 978.64,867.992 1439.81,759.774 1789.99,728.739 1874.45,809.125 1700.12,992.906 1371.94,1198.64 1001.83,1293.76 674.59,1225.73 466.201,1094.64 486.141,1032.12 749.279,1055.81 1183.35,1092.86 1678.28,1071.14 2017.09,1032.57 2107.52,1068.64 1959.81,1187.04 1658.25,1288.43 1293.22,1244.22 929.357,1048 698.325,839.603 725.323,733.677 1019.38,743.262 1451.99,830.389 1830.98,979.227 1997.25,1181.99 1993.94,1375.54 1930.72,1428.52 1843.32,1294.03 1673.67,1035.36 1352.64,752.993 1004.41,551.378 868.071,480.042 1006.15,534.672 1322.83,697.882 1636.04,948.108 1818.16,1238.53 1888.19,1422.32 1926.59,1401.6 1926.31,1213.07 1787.63,966.865 1442.12,767.329 1015.84,646.027 771.233,633.297 818.353,747.745 1096.15,960.684 1464.14,1183.91 1825.58,1305.79 2101.53,1282.18 2233.64,1220.53 2157.82,1219.09 1883.24,1246.36 1471.7,1186.15 1024.45,1005 713.902,826.409 676.262,755.365 934.33,810.565 1363.53,938.196 1793.08,1086.87 2075.91,1240.94 2185.02,1380.2 2197.86,1419.55 2158.33,1336.97 1987.96,1182.22 1603.18,1014.22 1108.74,856.136 744.216,758.762 666.879,780.379 883.225,923.757 1275.1,1113.38 1697.86,1234.03 2051.94,1238.53 2230.88,1216.81 2185.84,1258.09 1963.95,1313.36 1631.59,1253.97 1220.03,1031.26 876.039,784.571 763.748,636.705 959.154,627.897 1352.52,728.247 1727.09,913.911 1907.72,1166.06 1920.08,1388.51 1879.41,1425.31 1813.04,1251.45 1644.21,964.019 1307.78,684.29 973.6,510.023 882.777,473.068 1080.24,570.587 1423.95,781.228 1713.44,1076.24 1854.46,1346.08 1922.85,1434.83 1962.93,1309 1901.45,1069.41 1602.49,847.048 1137.34,707.159 787.693,668.089 742.175,761.702 980.581,973.372 1353.42,1198.06 1746.03,1297.74 2051.99,1234.08 2184.96,1147.26 2062.85,1146.52 1715.58,1184.45 1225.17,1136.1 775.79,991.114 558.463,891.493 662.611,920.997 1028.01,1040.08 1509,1140.2 1954.33,1159.07 2183.8,1172.37 2159.53,1260.23 1956.84,1347.35 1664.03,1286.49 1307.22,1046.46 959.674,756.091 827.466,572.291 1008.45,534.525 1386.69,620.568 1710.31,822.42 1795.88,1114.75 1715.65,1375.48 1592.43,1409.97 1455.31,1187.65 1274.99,829.95 1096.98,492.818 1089.35,298.26 1279.84,236.272 1468.08,294.748 1451.17,485.252 1271.52,811.688 1080.15,1195.02 942.605,1419.23 829.992,1367.14 761.955,1110.49 859.275,812.63 1192.55,609.508 1583.58,523.438 1718.61,578.453 1542.48,775.61 1199.24,1056.02 848.055,1295.5 566.344,1352.56 374.254,1259.68 380.911,1175.9 644.834,1163.74 1113.91,1127.55 1634.36,998.752 1956.71,887.939 1943.67,906.35 1627.13,1037.66 1157.2,1162.13 684.355,1177.53 399.021,1146.81 392.536,1195.74 620.592,1292.8 980.19,1274.31 1392.51,1064.54 1738.03,792.525 1782.4,647.594 1491.42,655.051 1045.56,773.951 713.607,992.227 635.182,1268.22 692.171,1432.32 779.713,1339.67 934.543,1041.06 1230.78,705.975 1540.44,473.723 1602.67,395.524 1369.66,464.046 1041.83,668.115 873.408,996.355 891.619,1328.08 967.529,1437.09 1055.39,1255.4 1188.95,888.614 1367.94,525.83 1453.75,284.584 1323.02,201.41 1131.84,244.661 1121.18,426.019 1284.09,766.344 1454.26,1178.6 1565.34,1421.36 1656.62,1369.88 1707.91,1085.73 1600.34,749.269 1273.47,514.287 964.568,421.564 952.215,483.56 1219.7,693.045 1554.85,1012.08 1789.46,1325.99 1930.33,1421.72 2027.55,1283.68 1971.98,1057.36 1630.88,900.347 1086.24,808.681 689.009,803.995 650.555,940.971 910.225,1172.13 1304.27,1310.79 1689.95,1209.03 1958.44,983.399 1899.51,862.284 1504.06,874.251 950.439,946.564 551.743,1067.55 472.864,1257.09 583.081,1409.14 749.549,1337.32 991.719,1054.56 1363.04,708.286 1628.37,488.624 1570.61,436.044 1242.49,534.81 922.689,776.989 838.986,1128.2 917.678,1406.19 1023.48,1383.17 1150.92,1085.94 1325.85,686.471 1454.52,366.895 1366.47,219.782 1161.25,212.375 1109.09,342.57 1260.38,631.775 1446.02,1061.64 1550.43,1384.88 1623.79,1411.76 1670.81,1153.03 1591.59,792.089 1295.27,508.798 993.456,378.529 1002.83,417.434 1284.62,611.963 1585.33,943.115 1728.84,1304.87 1777.27,1441.71 1801.11,1277.65 1715.08,953.349 1389.35,659.535 984.857,498.62 876.293,509.66 1120.33,687.365 1503.73,981.108 1816.96,1292.63 2007.57,1409.81 2133.8,1304.31 2084.03,1136.72 1729.73,1037.12 1139.58,950.014 664.532,886.783 564.762,956.115 816.856,1148.03 1248.74,1278.29 1699.35,1176.91 1989.11,974.987 1915.07,896.596 1482.24,951.101 912.117,1030.41 492.013,1118.62 410.498,1272.06 536.288,1402.01 739.721,1312.56 1040.76,1016.03 1454.84,680.597 1677.21,493.958 1517.08,491.676 1124.96,646.707 831.192,948.846 792.327,1299.79 857.38,1439.24 944.107,1251.48 1109.71,871.818 1388.25,503.642 1524.43,312.003 1355.12,292.582 1083.11,429.132 1023.59,738.497 1182.1,1161.27 1380.7,1411.48 1570.96,1308.5 1697.27,970.319 1591.28,640.983 1214.22,471.214 912.098,467.146 983.457,644.131 1314.33,965.763 1666.99,1289.01 1936.59,1381.8 2120.59,1245.94 2071.07,1095.99 1675.36,1039.7 1058.38,983.126 597.94,937.614 540.508,1029.9 828.275,1221.98 1276.85,1281.55 1716.78,1087.14 1936.07,858.915 1731.84,801.232 1210.04,875.463 696.17,1012.81 483.572,1225.06 524.04,1411.65 634.921,1365.78 839.502,1087.27 1262.04,746.128 1647.24,538.516 1654.26,524.738 1296.99,693.216 892.458,988.414 671.968,1318.66 585.75,1432.36 549.136,1266.09 707.483,999.615 1204.1,798.037 1724.82,708.867 1853.42,794.764 1575.83,1039.92 1104.9,1266.22 666.162,1250.87 414.235,1112.37 541.618,1090.81 1001.46,1140.55 1619.42,1080.97 2020.74,977.145 1997.25,1020.3 1612.22,1168.97 1067.77,1202.35 599.214,1059.73 492.005,988.016 805.903,1072.25 1362.33,1150.12 1921.42,1092.02 2130.59,1068.43 1941.29,1183.52 1489.97,1263.02 976.686,1102.06 641.762,864.934 750.031,796.873 1258.65,891.954 1808.2,1040.94 2100.11,1239.66 2117.09,1412.8 2046.78,1373.08 1854.79,1125.85 1377.16,836.832 877.518,654.987 768.992,663.39 1099,864.472 1589.44,1134.82 2000.65,1313.17 2253.42,1334.03 2270.99,1324.87 2038.16,1312.91 1574.87,1136.95 1030.56,846.199 739.423,660.537 934.36,690.088 1438.25,879.489 1875.15,1141.72 2074.81,1382.7 2144.65,1404.3 2111.85,1234.81 1779.47,1049.41 1138.77,886.766 672.579,804.274 683.135,911.974 1080.7,1144.84 1608.05,1255.73 2036.4,1147.92 2121.95,1077.46 1794.78,1145.17 1214.08,1156.95 660.76,1010.82 518.284,955.504 841.066,1074.28 1412.23,1175.25 1960.45,1111.41 2138.59,1083.78 1888.13,1200.22 1375.66,1237.07 842.536,1028.85 607.729,834.61 869.741,842.834 1447.29,972.514 1969.74,1126.23 2159.94,1315.17 2122.56,1424.68 2001.29,1285.78 1654.33,994.429 1076.49,734.328 747.814,639.929 931.226,770.808 1427.48,1042.12 1895.65,1271.11 2217.16,1341.46 2289.35,1332.67 2089.23,1323.81 1633.43,1154.81 1058.8,853.243 740.45,660.267 945.184,698.223 1467.88,903.208 1912.61,1182.78 2103.07,1403.78 2171.64,1373.57 2077.2,1191.08 1614.89,1023.09 941.595,863.014 609.705,826.272 808.594,1000.21 1316.78,1215.81 1860.23,1212.26 2148.3,1098.19 1978.76,1132.71 1464.06,1194.21 845.652,1060.34 535.386,915.663 755.739,976.248 1330.76,1116.58 1928.81,1142.95 2187.46,1166.38 2033.65,1301.19 1642.61,1297.79 1167.91,990.156 824.656,657.027 970.394,552.202 1466.92,659.821 1797.38,961.508 1748.7,1332.48 1584.08,1401.07 1384.12,1063.9 1137.12,604.181 1082.92,309.848 1347.04,246.385 1491.54,392.066 1296.98,773.594 1041.13,1267.31 873.313,1424.96 753.083,1168.03 871.419,794.145 1357.53,574.921 1724.47,565.314 1564.08,800.013 1115.78,1155.17 676.187,1346.17 386.555,1248.93 428.598,1160.8 885.219,1159.92 1581.65,1026.44 1986.83,885.638 1812.82,967.618 1254.8,1141.91 647.786,1170.41 363.146,1154.94 540.506,1272.45 987.446,1272.88 1515.42,972.642 1802.75,680.072 1520.96,641.804 955.619,803.531 654.566,1126.36 694.536,1417.63 810.787,1323.03 1039.67,921.327 1457.5,521.902 1583.75,375.658 1254.12,474.652 927.269,806.814 942.827,1268.89 1087.3,1423.93 1246.88,1100.71 1409.75,609.935 1380.11,268.881 1160.2,174.687 1181.36,293.984 1397.95,661.856 1470.75,1209.32 1442.87,1444.38 1400.42,1162.54 1302.62,659.128 1183.18,273.952 1257.89,125.642 1374.8,182.516 1269.55,474.719 1156.5,1031.22 1143.13,1426.5 1148.22,1298.4 1190.56,816.328 1314.42,369.868 1354.65,141.927 1212.55,139.644 1219.25,357.273 1358.8,865.114 1414.93,1359.17 1435.99,1389.03 1428.96,970.221 1304.04,482.148 1151.13,194.25 1277.7,157.652 1406.03,341.73 1275.4,797.752 1120.88,1319.25 1016.04,1407.22 955.671,1028.09 1125.22,571.958 1491.46,325.085 1463.01,352.256 1111.34,630.481 943.668,1132.99 987.417,1441.88 1062.01,1223.26 1220.39,722.558 1430.36,315.212 1330.52,185.788 1117.15,285.321 1219.53,647.618 1444.37,1215.14 1584.48,1434.48 1681.49,1139.11 1546.05,687.691 1092.19,424.706 961.109,441.188 1324.89,726.746 1692.81,1184.18 1859.98,1433.59 1947.37,1228.51 1718.44,880.891 1057.16,689.732 714.762,733.566 1024.99,1052.75 1570.77,1298.72 2031.59,1195.23 2091.39,1071.05 1595.78,1113.37 841.306,1055.08 474.823,997.574 739.014,1159.11 1342.28,1234.82 1903.15,1008.99 1932.4,894.862 1361.48,1002.49 656.443,1104.62 373.992,1238.69 514.505,1397.59 816.417,1227.73 1328.48,795.44 1692.73,514.851 1423.52,547.072 916.056,832.819 752.148,1297.6 810.595,1418.53 940.984,1048.26 1313.94,579.943 1580.82,356.541 1298.69,433.761 948.822,792.229 981.379,1302.92 1142.04,1391.11 1325.59,921.726 1430.65,425.517 1243.24,187.508 1143.53,214.91 1356.63,513.062 1454.58,1104.06 1401.22,1444.62 1333.57,1164.88 1242.18,616.247 1217.88,222.176 1335.03,98.6818 1281.79,230.634 1200.76,712.183 1254.93,1305.04 1322.9,1397.58 1375.79,939.417 1329.32,423.262 1192.19,145.021 1285.36,139.923 1360.77,410.259 1230.99,1016.45 1131.89,1434.4 1058.66,1222.99 1099.81,688.082 1385.41,296.712 1413.06,219.845 1127.6,421.606 1115.46,941.03 1310.28,1406.99 1497.72,1259.88 1568.63,743.7 1248.48,373.506 1014.09,322.681 1322.21,590.24 1614.44,1127.81 1664.33,1444.83 1655.92,1159.27 1414.76,654.599 1005.36,357.665 1155.07,406.571 1559.45,762.044 1618.4,1302.81 1518.14,1393.97 1371.62,926.365 1151.63,411.109 1210.9,185.681 1429.95,247.991 1284.22,620.105 1074.25,1244.14 981.154,1420.68 949.608,1004.99 1223.13,508.879 1547.38,310.563 1286.09,452.93 963.504,914.9 987.638,1406.21 1088.77,1277.34 1257.78,726.987 1421.56,282.828 1237.28,164.454 1156.66,334.361 1380.12,849.543 1500.79,1398.79 1553.77,1293.89 1487.34,759.357 1143.48,338.086 1122.19,264.278 1464.38,510.485 1477.53,1074.88 1277.4,1432.4 1086.41,1110.46 1063.68,562.904 1403.48,273.756 1432.58,320.744 1092.41,700.539 1000.86,1303.73 1056.58,1383.6 1165.11,878.155 1383.82,364.128 1333.31,166.309 1132.34,280.034 1302.31,742.709 1484.99,1347.91 1583.97,1345.28 1564.49,821.375 1170.99,392.177 1048.05,330.925 1445.45,622.034 1609.71,1204.01 1532.41,1426.47 1409.22,986.799 1175.45,430.875 1198.24,183.618 1429.36,261.088 1271.81,689.425 1061.27,1322.53 953.112,1362.49 960.379,856.454 1370.67,416.786 1535.31,353.72 1125.64,652.097 900.516,1238.1 926.721,1415.63 1031.48,954.023 1386.75,435.818 1454.73,268.486 1084.84,457.551 1090.45,1011.14 1355.2,1424.7 1591.15,1104.19 1525.79,574.358 1037.23,368.653 1081.12,546.187 1544.42,1046.78 1836.1,1426.83 1971.36,1177.05 1590.95,832.332 795.659,726.207 785.562,976.093 1361.22,1304.43 1927.4,1133.55 1918.33,933.116 1162.7,988.413 479.548,1089.16 550.118,1345.81 938.915,1259.36 1469.76,734.623 1584.91,436.953 1054.88,548.436 900.88,1025.98 1196.49,1416.1 1501.01,1062.5 1534.73,521.289 1074.45,338.201 1098.82,557.876 1541.94,1108.18 1821.3,1423.49 1940.53,1093.59 1441.96,770.477 728.369,729.924 912.196,1066.07 1538.73,1313.77 2023.16,1052.04 1738.16,945.414 869.216,1009.92 437.006,1162.92 695.632,1386.03 1167.16,1067.18 1641.34,542.348 1333.16,449.231 877.869,763.784 1076.32,1326.25 1418.73,1275.99 1622.67,696.211 1200.99,384.443 982.184,507.549 1423.6,1014.18 1830.84,1411.1 2035.42,1150.34 1579.58,889.815 713.878,841.804 715.387,1131.13 1299.41,1315.36 1822.79,915.267 1569.22,693.95 798.393,836.199 688.164,1261.52 991.87,1350.43 1377.81,797.499 1495.65,348.622 1057.34,359.2 1156.78,806.361 1581.66,1387.07 1876.37,1198.5 1654.93,781.948 854.301,695.035 807.259,1004.58 1385.36,1336.3 1913.73,1049.65 1704.2,828.644 838.528,910.03 535.275,1223.16 816.31,1380.53 1265.57,867.78 1590.75,408.045 1131.83,439.593 973.672,917.195 1336.22,1408.74 1668.16,1062.96 1508.67,565.176 906.44,497.294 1142.01,908.023 1722.85,1356.84 2110.6,1196.85 1798.42,1038.24 844.431,980.012 517.196,1065.18 1058.24,1307.68 1741.37,984.206 1714.54,720.274 899.914,861.713 582.202,1276.19 770.941,1360.25 1181.47,801.472 1615.13,404.986 1172.24,527.341 889.076,1091.66 1081.6,1419.68 1321.17,887.11 1415.77,312.503 1127.16,190.423 1319.51,516.05 1484.91,1270.51 1458.81,1340.46 1341.34,682.706 1151.46,207.978 1375.86,189.936 1276.72,653.311 1082.72,1382.37 996.423,1217.73 1177.12,541.006 1503.97,260.904 1134.5,481.85 1062.69,1169.1 1280.02,1380.45 1458.67,760.961 1252.64,257.861 1167.78,244.876 1464.84,721.917 1374.7,1412.19 1221.88,1131.96 1168.85,449.738 1385.15,139.251 1208.27,297.545 1219.68,995.169 1397.12,1433.73 1511.91,892.731 1230.99,329.839 1153.59,261.843 1498.82,707.051 1367.58,1404.45 1166.24,1128.54 1140.84,452.132 1436.31,183.939 1189.24,404.827 1140.19,1145.12 1325.11,1379.87 1449.75,730.426 1203.84,231.154 1239.45,239.079 1439.96,785.581 1242.93,1430.82 1058.95,1027.29 1219.43,392.208 1455.82,248.233 1080.65,641.393 1118.08,1380.5 1291.19,1165.88 1394.53,455.82 1173.89,137.484 1336.67,321.769 1345.07,1083.75 1177.06,1399.4 1091.29,732.266 1394.67,233.166 1266.45,275.014 1122.02,887.721 1361.31,1434.43 1544.01,906.252 1230.58,340.024 1134.12,340.488 1546.4,902.557 1519.99,1443.6 1383.58,908.8 1137.96,277.567 1374,183.158 1268.71,645.097 1049.09,1417.12 977.18,1088.98 1296.61,435.047 1436.68,300.983 1010.43,759.165 1140.54,1429.01 1361.82,990.229 1366.97,324.928 1143.39,177.69 1421.65,588.625 1333.52,1395.34 1170.44,1100.3 1203,382.262 1388.85,153.519 1139.25,493.294 1314.38,1332.82 1517.77,1180.6 1391.79,482.229 1059.54,275.167 1493.63,694.748 1491.91,1423.49 1328.23,1017.3 1165.49,316.318 1378.53,138.218 1198.45,539.384 1179.42,1387.93 1265.47,1110.05 1329.85,363.324 1225.98,87.9763 1330.21,393.86 1247.11,1313.53 1163.75,1207.58 1234.6,431.993 1343.2,127.085 1180.33,431.093 1403.74,1321.93 1537.8,1196.59 1339.17,473.217 1105.59,268.445 1522.41,729.568 1362.22,1433.79 1135.5,918.053 1262.65,274.372 1353.18,243.97 1099.85,880.293 1276.35,1429.48 1428.66,765.207 1195.05,202.225 1313.93,270.817 1357.83,1032.53 1119.05,1371.1 1078.64,599.333 1497.15,249.603 1105.97,591.991 1084.54,1395.74 1269.67,1043.37 1371.36,304.871 1177.48,143.189 1391.55,640.784 1274.92,1439.9 1150.7,896.066 1320.15,232.919 1248.96,199.92 1243.48,906.659 1473.87,1410.74 1517.59,709.194 1041.58,273.559 1437.79,583.541 1508.14,1395.32 1324.38,1028.2 1169.23,281.037 1386.39,163.493 1154.52,750.735 1209.38,1443.22 1310.88,775.289 1276.08,158.99 1284.01,169.108 1289.33,942.467 1179.9,1397.45 1174.31,618.851 1385.72,144.151 1160.76,357.206 1390.04,1277.89 1559.16,1180.15 1288.27,430.267 1162.3,340.432 1565.59,1027.39 1393.69,1354.67 1176.5,540.778 1357.72,134.905 1202.27,465.049 1213.11,1411.37 1339.61,955.167 1276.82,226.246 1284.14,152.036 1290.69,847.14 1127.64,1411.65 1127.7,639.717 1433.52,189.193 1098.65,542.994 1377.99,1416.32 1610.8,915.682 1081.06,346.279 1315.54,634.273 1720.63,1419.66 1713.29,975.306 932.71,459.09 1371.33,825.029 1944.16,1420.34 1979.05,1063.53 815.058,829.775 872.755,1173.23 1817.83,1102.12 1545.54,866.929 507.55,1114.33 658.193,1394.29 1336.62,719.692 1445.56,500.325 798.711,1138.81 924.833,1265.11 1432.25,450.361 1195.97,372.74 1138.51,1184.33 1570.18,1168.58 1335.68,451.252 1084.3,590.545 1754.62,1357.72 2011.85,1113.64 991.071,798.916 812.159,1138.05 1735.39,1134.6 1531.67,793.869 549.931,1103.91 813.592,1347.7 1497.8,559.416 1183.28,459.682 1035.51,1251.85 1484.01,1074.79 1280.61,351.247 1204.8,567.516 1702.51,1406.82 1764.52,966.357 869.99,521.919 1421.91,1039.48 2150.25,1330.37 1840.12,1176.21 633.143,864.174 1280.43,1103.71 2215.37,1205.37 1732.5,1299.06 836.302,613.838 1542.96,715.053 1730.46,1423.83 1347.63,813.271 1152.4,269.585 1466.14,748.711 939.732,1396.29 917.727,711.048 1740.52,678.454 948.422,1323.03 449.525,1076.13 1620.19,1031.84 1888.39,1185.49 821.424,1018.56 1207.55,812.923 2045.46,1274.91 1814.1,1200.77 912.296,536.523 1454.82,833.87 1978.82,1431.94 1795.43,972.268 662.073,782.895 1385.7,1281.45 2071.7,1008.48 907.345,1069.21 557.268,1240.71 1500.76,1008.97 1389.74,606.072 739.241,1196.38 1188.66,1109 1448.83,310.061 1082.4,480.948 1601.55,1377.16 1797.78,931.767 836.021,585.169 1435.09,1207.59 2175.9,1181.9 1388.87,1129.97 556.403,939.622 1694.13,1182.81 1993.91,1158.54 838.884,1033.31 1079.24,922.041 2147.58,1234.07 2044.2,1363.26 1187.42,771.597 1059.64,779.682 2042.52,1339.6 2262.9,1310.55 1471.93,1100.28 726.054,733.554 1879.32,1172.56 2263.35,1404.2 1964.92,1210.29 783.61,774.042 1334.43,1054.5 2236.61,1291.3 2067.53,1358.96 1887.28,1260.98 \"/>\n",
       "<path clip-path=\"url(#clip390)\" d=\"M2012.4 198.898 L2280.77 198.898 L2280.77 95.2176 L2012.4 95.2176  Z\" fill=\"#ffffff\" fill-rule=\"evenodd\" fill-opacity=\"1\"/>\n",
       "<polyline clip-path=\"url(#clip390)\" style=\"stroke:#000000; stroke-linecap:round; stroke-linejoin:round; stroke-width:4; stroke-opacity:1; fill:none\" points=\"2012.4,198.898 2280.77,198.898 2280.77,95.2176 2012.4,95.2176 2012.4,198.898 \"/>\n",
       "<polyline clip-path=\"url(#clip390)\" style=\"stroke:#009af9; stroke-linecap:round; stroke-linejoin:round; stroke-width:4; stroke-opacity:1; fill:none\" points=\"2036.39,147.058 2180.36,147.058 \"/>\n",
       "<path clip-path=\"url(#clip390)\" d=\"M2218.19 166.745 Q2216.39 171.375 2214.67 172.787 Q2212.96 174.199 2210.09 174.199 L2206.69 174.199 L2206.69 170.634 L2209.19 170.634 Q2210.95 170.634 2211.92 169.8 Q2212.89 168.967 2214.07 165.865 L2214.84 163.921 L2204.35 138.412 L2208.86 138.412 L2216.96 158.689 L2225.07 138.412 L2229.58 138.412 L2218.19 166.745 Z\" fill=\"#000000\" fill-rule=\"evenodd\" fill-opacity=\"1\" /><path clip-path=\"url(#clip390)\" d=\"M2236.87 160.402 L2244.51 160.402 L2244.51 134.037 L2236.2 135.703 L2236.2 131.444 L2244.46 129.778 L2249.14 129.778 L2249.14 160.402 L2256.78 160.402 L2256.78 164.338 L2236.87 164.338 L2236.87 160.402 Z\" fill=\"#000000\" fill-rule=\"evenodd\" fill-opacity=\"1\" /></svg>\n"
      ]
     },
     "execution_count": 48,
     "metadata": {},
     "output_type": "execute_result"
    }
   ],
   "source": [
    "using Plots; \n",
    "plot(HH[1:st,1],HH[1:st,2])"
   ]
  },
  {
   "cell_type": "code",
   "execution_count": null,
   "id": "743d91ff-98c8-4460-a5e9-8d46594d3a9e",
   "metadata": {
    "tags": []
   },
   "outputs": [],
   "source": []
  },
  {
   "cell_type": "code",
   "execution_count": null,
   "id": "ffc89319-e515-430e-b33e-e97d2aaed196",
   "metadata": {},
   "outputs": [],
   "source": []
  },
  {
   "cell_type": "code",
   "execution_count": null,
   "id": "038e1123-6b1a-4a7c-8ed8-853e35481316",
   "metadata": {},
   "outputs": [],
   "source": []
  },
  {
   "cell_type": "code",
   "execution_count": null,
   "id": "19cd379a-c82c-4094-bb43-1de0011a3458",
   "metadata": {},
   "outputs": [],
   "source": []
  }
 ],
 "metadata": {
  "kernelspec": {
   "display_name": "Julia 1.8.5",
   "language": "julia",
   "name": "julia-1.8"
  },
  "language_info": {
   "file_extension": ".jl",
   "mimetype": "application/julia",
   "name": "julia",
   "version": "1.8.5"
  }
 },
 "nbformat": 4,
 "nbformat_minor": 5
}
