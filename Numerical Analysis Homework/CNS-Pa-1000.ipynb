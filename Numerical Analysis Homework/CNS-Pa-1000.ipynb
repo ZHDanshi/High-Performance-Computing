{
 "cells": [
  {
   "cell_type": "code",
   "execution_count": null,
   "id": "fd7db48f-84d3-4473-aef8-0bf457094c2d",
   "metadata": {},
   "outputs": [],
   "source": []
  },
  {
   "cell_type": "code",
   "execution_count": null,
   "id": "95d87cb0-0cce-42b7-a5f7-0881d60a9403",
   "metadata": {},
   "outputs": [],
   "source": [
    "setprecision(7100);"
   ]
  },
  {
   "cell_type": "code",
   "execution_count": null,
   "id": "2011da24-cf7c-4719-9a03-8913f1be28bf",
   "metadata": {
    "tags": []
   },
   "outputs": [],
   "source": [
    "function Wfile(A,Times,figure)\n",
    "    if figure == 1\n",
    "        XLSX.openxlsx(\"LorenzF_J.xlsx\", mode=\"w\") do xf\n",
    "        sheet = xf[1]\n",
    "        XLSX.rename!(sheet, \"new_sheet\")\n",
    "        sheet[\"A1\"] = \"X\"\n",
    "        sheet[\"B1\"] = \"Y\"\n",
    "        sheet[\"C1\"] = \"Z\"\n",
    "        str1=\"A2:C\"*string(Times+1)\n",
    "        sheet[str1] = A\n",
    "        end\n",
    "    else\n",
    "        XLSX.openxlsx(\"LorenzF_J.xlsx\", mode=\"rw\") do xf\n",
    "        sheet = xf[1]\n",
    "        str2=\"A\"*string((figure-1)*Times+2)*\":C\"*string(figure*Times+1)\n",
    "        sheet[str2] = A \n",
    "        end\n",
    "    end        \n",
    "end"
   ]
  },
  {
   "cell_type": "code",
   "execution_count": null,
   "id": "3c33d702-d3fb-498c-b209-0e6d82938ced",
   "metadata": {
    "tags": []
   },
   "outputs": [],
   "source": [
    "function accuracy(t)\n",
    "    e = ep*exp(BigFloat(2.3025851)*(BigFloat(0.4)*t-BigFloat(20)))\n",
    "    ac = (0.29803-log10(e))/0.30103;\n",
    "    return max(round(Int,ac),128);\n",
    "end"
   ]
  },
  {
   "cell_type": "code",
   "execution_count": null,
   "id": "6718f411-5dda-493b-a0be-6b23661fbf8f",
   "metadata": {
    "tags": []
   },
   "outputs": [],
   "source": [
    "function order()\n",
    "    M=400;\n",
    "    return M+1;\n",
    "end"
   ]
  },
  {
   "cell_type": "code",
   "execution_count": null,
   "id": "10778402-be7d-470c-8215-16631a92aee3",
   "metadata": {},
   "outputs": [],
   "source": [
    "function Ep(t)\n",
    "    return ep*exp(BigFloat(2.3025851)*(BigFloat(0.4)*t-BigFloat(10)))\n",
    "end"
   ]
  },
  {
   "cell_type": "code",
   "execution_count": null,
   "id": "13c0f986-c8e1-4f72-bbd5-ad70bbe5784c",
   "metadata": {
    "tags": []
   },
   "outputs": [],
   "source": [
    "function steps(Dfm,Co)\n",
    "    h = Co*abs(Dfm)^(BigFloat(-1)/BigFloat(order()-1))\n",
    "    return min(h,BigFloat(1)/BigFloat(10))\n",
    "end"
   ]
  },
  {
   "cell_type": "code",
   "execution_count": null,
   "id": "2aca12b3-21ea-4219-a2c6-d25db6b12c43",
   "metadata": {},
   "outputs": [],
   "source": [
    "function goonm(mor)\n",
    "    sgo = BigFloat(1)\n",
    "    for i in 1:mor\n",
    "        sgo = sgo*BigFloat(i)\n",
    "    end\n",
    "    return (sgo)^(BigFloat(1)/BigFloat(mor))\n",
    "end "
   ]
  },
  {
   "cell_type": "code",
   "execution_count": null,
   "id": "a4a1f966-00cc-4a67-88a6-7dae27e2318a",
   "metadata": {},
   "outputs": [],
   "source": [
    "function goon(mor,ep)\n",
    "    sgo = BigFloat(1)\n",
    "    for i in 1:mor\n",
    "        sgo = sgo*BigFloat(i)\n",
    "    end\n",
    "    return (ep*sgo)^(BigFloat(1)/BigFloat(mor))\n",
    "end "
   ]
  },
  {
   "cell_type": "code",
   "execution_count": null,
   "id": "8df62765-cb35-4744-841e-9167dd5f70fb",
   "metadata": {
    "tags": []
   },
   "outputs": [],
   "source": [
    "function JCh(k,i)\n",
    "     \n",
    "    k = BigFloat(k);\n",
    "    i = BigFloat(i);\n",
    "    s = BigFloat(1);\n",
    "    if i < k/2\n",
    "        i = k - i;\n",
    "    end\n",
    "    for j in range(k,i+1,step=-1)\n",
    "        \n",
    "        j1=BigFloat(j)\n",
    "        s = s*j1/(j1-i)\n",
    "        \n",
    "    end\n",
    "    \n",
    "    return s\n",
    "end"
   ]
  },
  {
   "cell_type": "code",
   "execution_count": null,
   "id": "4bf21f14-be16-4eb4-a374-8938dd6492c8",
   "metadata": {},
   "outputs": [],
   "source": [
    "function DJCh()\n",
    "    Cki = Array{BigFloat}(undef,order()-1,order()-1);\n",
    "    for k in 1:order()-1\n",
    "        for j in 1:k\n",
    "            Cki[k,j] = 1\n",
    "        end\n",
    "    end\n",
    "    \n",
    "    for k in 2:order()-2\n",
    "        for i in 1:k-1\n",
    "           Cki[k+1,i+1] = Cki[k,i] + Cki[k,i+1]\n",
    "        end\n",
    "    end\n",
    "    return Cki\n",
    "end"
   ]
  },
  {
   "cell_type": "code",
   "execution_count": null,
   "id": "786f0eea-697a-4cc3-8278-f6b2b08eab3e",
   "metadata": {},
   "outputs": [],
   "source": [
    "function multi(hstep)\n",
    "    S = Array{BigFloat}(undef,1,order());\n",
    "    S[1] = BigFloat(1)\n",
    "    \n",
    "    for i in 1:order()-1\n",
    "        S[i+1] = S[i]*hstep/BigFloat(i)\n",
    "    end\n",
    "    \n",
    "    return S\n",
    "end"
   ]
  },
  {
   "cell_type": "code",
   "execution_count": null,
   "id": "d4ee2258-fc20-4cac-9503-66f62b14b113",
   "metadata": {
    "tags": []
   },
   "outputs": [],
   "source": [
    "function Sumxyz(k,x,y,Cki)\n",
    "    if k < 60\n",
    "        s = sum(Cki[k+1,1:k+1].*reverse!(x).*y)\n",
    "        return s\n",
    "    else\n",
    "        s = Array{BigFloat}(undef,k+1);\n",
    "        Threads.@threads for i in 0:k\n",
    "            s[i+1] = Cki[k+1,i+1]*x[k-i+1]*y[i+1];\n",
    "        end\n",
    "        return sum(s);   \n",
    "    end\n",
    "end "
   ]
  },
  {
   "cell_type": "code",
   "execution_count": null,
   "id": "fc32580e-dc79-4f49-a9ac-0a2c756dac24",
   "metadata": {
    "tags": []
   },
   "outputs": [],
   "source": [
    "function Talor(x,y,z,Cki,Co)\n",
    "    for k in 1:order()-1\n",
    "        x[k+1] = c*(-x[k] + y[k])\n",
    "        y[k+1] = R*x[k] - y[k] - Sumxyz(k-1,x[1:k],z[1:k],Cki)\n",
    "        z[k+1] = Sumxyz(k-1,x[1:k],y[1:k],Cki) - b*z[k]\n",
    "    end\n",
    "    return [x,y,z],min(steps(x[end],Co),steps(y[end],Co),steps(z[end],Co))\n",
    "end"
   ]
  },
  {
   "cell_type": "code",
   "execution_count": null,
   "id": "a56eb92b-d8a1-4823-ade8-c8c711253f79",
   "metadata": {
    "tags": []
   },
   "outputs": [],
   "source": [
    "function Iteration(x,y,z,Times,Cki,Lorenz,Tin,Tinf)\n",
    "    stl = 0;\n",
    "    flag = 0;\n",
    "    for st in 1:Times\n",
    "        \n",
    "        Co = Mo*Ep(Tin)^(BigFloat(1)/BigFloat(order()))\n",
    "        setprecision(accuracy(Tin))\n",
    "        \n",
    "        Tay,hstep = Talor(x,y,z,Cki,Co)\n",
    "\n",
    "        if Tin + hstep < Tinf \n",
    "            x = Tay[1]\n",
    "            y = Tay[2]\n",
    "            z = Tay[3]\n",
    "            Dmulti = multi(hstep);\n",
    "        \n",
    "            x[1] = sum(Dmulti[1:order()].*x[1:order()]);\n",
    "            y[1] = sum(Dmulti[1:order()].*y[1:order()]);\n",
    "            z[1] = sum(Dmulti[1:order()].*z[1:order()]);\n",
    "    \n",
    "            Lorenz[st,:] = [x[1],y[1],z[1]]; \n",
    "            \n",
    "            Tin = Tin + hstep\n",
    "            stl = st\n",
    "        else\n",
    "            hstep = Tinf - Tin\n",
    "            x = Tay[1]\n",
    "            y = Tay[2]\n",
    "            z = Tay[3]\n",
    "            Dmulti = multi(hstep);\n",
    "        \n",
    "            x[1] = sum(Dmulti[1:order()].*x[1:order()]);\n",
    "            y[1] = sum(Dmulti[1:order()].*y[1:order()]);\n",
    "            z[1] = sum(Dmulti[1:order()].*z[1:order()]);\n",
    "    \n",
    "            Lorenz[st,:] = [x[1],y[1],z[1]]; \n",
    "            Tin = Tin + hstep\n",
    "            stl = st\n",
    "            flag = 1\n",
    "            break;\n",
    "        end\n",
    "           \n",
    "    end\n",
    "    \n",
    "    Times2 = stl\n",
    "    return Lorenz,Tin,Times2,flag\n",
    "    \n",
    "end"
   ]
  },
  {
   "cell_type": "code",
   "execution_count": null,
   "id": "c48dc700-994b-407e-bf04-b114686ce569",
   "metadata": {
    "tags": []
   },
   "outputs": [],
   "source": [
    "function Lmain(x,y,z,Times,Cki,Maxi,Lorenz,Tin,Tinf)\n",
    "    Times2 = 0;\n",
    "    for i in 1:Maxi\n",
    "    \n",
    "        Lorenz,Tin,Times2,flag = Iteration(x,y,z,Times,Cki,Lorenz,Tin,Tinf)\n",
    "    \n",
    "        x[1] = Lorenz[end,1]\n",
    "        y[1] = Lorenz[end,2]\n",
    "        z[1] = Lorenz[end,3]\n",
    "    \n",
    "        Lorenzf = convert.(Float32,Lorenz)\n",
    "        Lorenztol[Times*(i-1)+1:Times*(i-1)+Times2,:] = Lorenzf[1:Times2,:]\n",
    "    \n",
    "        println(i,\")\",\"LTU=\",convert.(Float16,Tin),\": \",Lorenzf[Times2,:],\" (Ep: \",convert(Float16,log10(abs(Ep(Tin)))),\") (Mp: \",accuracy(Tin),\")\")\n",
    "                \n",
    "        if flag == 1 \n",
    "            break;\n",
    "        end\n",
    "    end\n",
    "    return Lorenztol,Times2\n",
    "end"
   ]
  },
  {
   "cell_type": "code",
   "execution_count": null,
   "id": "4ed25e13-b277-41d8-9e4b-24c7a67bb169",
   "metadata": {
    "tags": []
   },
   "outputs": [],
   "source": [
    "#defining\n",
    "using XLSX\n",
    "\n",
    "Tin = BigFloat(0);\n",
    "Tinf = BigFloat(1000);\n",
    "Times = 250;     #attension to use steps\n",
    "Maxi = 500;             #tatol time = Max * Times(down)\n",
    "\n",
    "ep = BigFloat(10)^BigFloat(-410);\n",
    "Mo = goonm(order())\n",
    "#Co = goon(order()-1,ep)\n",
    "\n",
    "c = BigFloat(10);\n",
    "R = BigFloat(28) #+ BigFloat(1)/BigFloat(2);\n",
    "b = BigFloat(8)/BigFloat(3);\n",
    "\n",
    "x = Array{BigFloat}(undef,order())\n",
    "y = Array{BigFloat}(undef,order())\n",
    "z = Array{BigFloat}(undef,order())\n",
    "x[1] = BigFloat(-15) - BigFloat(8)/BigFloat(10); \n",
    "y[1] = BigFloat(-17) - BigFloat(48)/BigFloat(100); \n",
    "z[1] = BigFloat(35) + BigFloat(64)/BigFloat(100);\n",
    "\n",
    "Lorenz = Array{BigFloat}(undef,Times,3);\n",
    "Lorenzf = Array{Float32}(undef,Times,3);\n",
    "Lorenztol = Array{Float32}(undef,Times*Maxi,3);\n",
    "Cki = Array{BigFloat}(undef,order()-1,order()-1);\n",
    "Dmulti = Array{BigFloat}(undef,1,order());\n",
    "\n",
    "Cki = DJCh();"
   ]
  },
  {
   "cell_type": "code",
   "execution_count": null,
   "id": "7f03eb2a-076e-4d10-9b2d-f186f82a1ec1",
   "metadata": {
    "tags": []
   },
   "outputs": [],
   "source": [
    "#Main \n",
    "Lorenztol,Times2 = Lmain(x,y,z,Times,Cki,Maxi,Lorenz,Tin,Tinf);"
   ]
  },
  {
   "cell_type": "code",
   "execution_count": null,
   "id": "6cba69be-b0bc-4c62-aa93-ab1e2d10adcf",
   "metadata": {
    "tags": []
   },
   "outputs": [],
   "source": [
    "#drawing\n",
    "using Plots; \n",
    "plot(Lorenztol[1:Times*(Maxi-1)+Times2,1],Lorenztol[1:Times*(Maxi-1)+Times2,2],Lorenztol[1:Times*(Maxi-1)+Times2,3])"
   ]
  },
  {
   "cell_type": "code",
   "execution_count": null,
   "id": "4372da84-aae6-4b32-aaad-1cd0e8b3b2d1",
   "metadata": {
    "tags": []
   },
   "outputs": [],
   "source": [
    "plot(1:Times*Maxi,Lorenztol[:,1])"
   ]
  },
  {
   "cell_type": "code",
   "execution_count": null,
   "id": "84d45684-2127-4c7b-b73f-66ddca6dc48a",
   "metadata": {
    "tags": []
   },
   "outputs": [],
   "source": [
    "#=output\n",
    "Lorenztol[end,:]\n",
    "=#"
   ]
  },
  {
   "cell_type": "code",
   "execution_count": null,
   "id": "bc2bad0f-cd0f-4a0a-81f7-0ad0f56ca304",
   "metadata": {
    "tags": []
   },
   "outputs": [],
   "source": [
    "#=profiling\n",
    "using ProfileView\n",
    "@profview Lmain(x,y,z,Times,Cki,Maxi,Lorenz);\n",
    "=#"
   ]
  },
  {
   "cell_type": "code",
   "execution_count": null,
   "id": "01dbab25-f34b-4809-aa85-e72e389c8ebe",
   "metadata": {
    "tags": []
   },
   "outputs": [],
   "source": [
    "function jiecheng(nn)\n",
    "    ss = BigFloat(1)\n",
    "    for i in 1:nn\n",
    "        ss = ss*BigFloat(i)\n",
    "    end\n",
    "return ss\n",
    "end\n",
    "\n",
    "jiecheng(400)"
   ]
  },
  {
   "cell_type": "code",
   "execution_count": null,
   "id": "b031e5b6-f9f4-4a4e-bf73-5846abf3ffa0",
   "metadata": {
    "tags": []
   },
   "outputs": [],
   "source": [
    "Co\n",
    "BigFloat(10)^BigFloat(-500)"
   ]
  },
  {
   "cell_type": "code",
   "execution_count": null,
   "id": "4d61a29f-50c6-483a-8b53-b5ce876f9f57",
   "metadata": {
    "tags": []
   },
   "outputs": [],
   "source": [
    "hstep"
   ]
  },
  {
   "cell_type": "code",
   "execution_count": null,
   "id": "cc6052bb-ed27-4769-91c5-92b0a45ec41a",
   "metadata": {
    "tags": []
   },
   "outputs": [],
   "source": [
    "Tin"
   ]
  }
 ],
 "metadata": {
  "kernelspec": {
   "display_name": "Julia 1.8.5",
   "language": "julia",
   "name": "julia-1.8"
  },
  "language_info": {
   "file_extension": ".jl",
   "mimetype": "application/julia",
   "name": "julia",
   "version": "1.8.5"
  }
 },
 "nbformat": 4,
 "nbformat_minor": 5
}
