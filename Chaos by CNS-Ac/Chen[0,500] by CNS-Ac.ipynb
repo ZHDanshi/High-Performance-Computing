{
 "cells": [
  {
   "cell_type": "code",
   "execution_count": null,
   "id": "1c8d49ee-5990-4ad9-86e2-8c6663b4f791",
   "metadata": {},
   "outputs": [],
   "source": [
    "#CNS-Ac for Chen[0,500] "
   ]
  },
  {
   "cell_type": "code",
   "execution_count": null,
   "id": "b5ebe30b-96d3-4e22-a491-5503a08db68f",
   "metadata": {},
   "outputs": [],
   "source": [
    "setprecision(3000);"
   ]
  },
  {
   "cell_type": "code",
   "execution_count": null,
   "id": "4e8dfcdf-fa1d-4dff-85ff-9b2c25ee92f1",
   "metadata": {},
   "outputs": [],
   "source": [
    "function accuracy(t)\n",
    "    e = ep*exp(BigFloat(2.3025851)*(BigFloat(1.001)*t-BigFloat(20)))\n",
    "    ac = (0.29803-log10(e))/0.30103;\n",
    "    return max(round(Int,ac),128);\n",
    "end"
   ]
  },
  {
   "cell_type": "code",
   "execution_count": null,
   "id": "06df4b91-fdd1-493e-b872-437fac823c10",
   "metadata": {},
   "outputs": [],
   "source": [
    "function order()\n",
    "    M=450;\n",
    "    return M+1;\n",
    "end"
   ]
  },
  {
   "cell_type": "code",
   "execution_count": null,
   "id": "12430613-2196-4a85-abc7-5b4b094b1a3d",
   "metadata": {},
   "outputs": [],
   "source": [
    "function Ep(t)\n",
    "    return ep*exp(BigFloat(2.3025851)*(BigFloat(1.001)*t-BigFloat(15)))\n",
    "end"
   ]
  },
  {
   "cell_type": "code",
   "execution_count": null,
   "id": "19aea40b-5ff3-4845-8927-1d2ab2f89ef3",
   "metadata": {},
   "outputs": [],
   "source": [
    "function steps(Dfm,Co)\n",
    "    h = Co*abs(Dfm)^(BigFloat(-1)/BigFloat(order()-1))\n",
    "    return min(h,BigFloat(1)/BigFloat(10))\n",
    "end"
   ]
  },
  {
   "cell_type": "code",
   "execution_count": null,
   "id": "3aa99fe4-bdb0-4790-bcdb-964a5dbc63c2",
   "metadata": {},
   "outputs": [],
   "source": [
    "function goonm(mor)\n",
    "    sgo = BigFloat(1)\n",
    "    for i in 1:mor\n",
    "        sgo = sgo*BigFloat(i)\n",
    "    end\n",
    "    return (sgo)^(BigFloat(1)/BigFloat(mor))\n",
    "end "
   ]
  },
  {
   "cell_type": "code",
   "execution_count": null,
   "id": "df41caed-d058-47c8-9d1f-87f408ae4459",
   "metadata": {},
   "outputs": [],
   "source": [
    "function goon(mor,ep)\n",
    "    sgo = BigFloat(1)\n",
    "    for i in 1:mor\n",
    "        sgo = sgo*BigFloat(i)\n",
    "    end\n",
    "    return (ep*sgo)^(BigFloat(1)/BigFloat(mor))\n",
    "end "
   ]
  },
  {
   "cell_type": "code",
   "execution_count": null,
   "id": "a50629d5-8e84-4c42-811a-a02b4df46434",
   "metadata": {},
   "outputs": [],
   "source": [
    "function JCh(k,i)\n",
    "     \n",
    "    k = BigFloat(k);\n",
    "    i = BigFloat(i);\n",
    "    s = BigFloat(1);\n",
    "    if i < k/2\n",
    "        i = k - i;\n",
    "    end\n",
    "    for j in range(k,i+1,step=-1)\n",
    "        \n",
    "        j1=BigFloat(j)\n",
    "        s = s*j1/(j1-i)\n",
    "        \n",
    "    end\n",
    "    \n",
    "    return s\n",
    "end"
   ]
  },
  {
   "cell_type": "code",
   "execution_count": null,
   "id": "ac281c6b-5e7c-4bf0-8fe6-726f9f7a39dd",
   "metadata": {},
   "outputs": [],
   "source": [
    "function DJCh()\n",
    "    Cki = Array{BigFloat}(undef,order()-1,order()-1);\n",
    "    for k in 1:order()-1\n",
    "        for j in 1:k\n",
    "            Cki[k,j] = 1\n",
    "        end\n",
    "    end\n",
    "    \n",
    "    for k in 2:order()-2\n",
    "        for i in 1:k-1\n",
    "           Cki[k+1,i+1] = Cki[k,i] + Cki[k,i+1]\n",
    "        end\n",
    "    end\n",
    "    return Cki\n",
    "end"
   ]
  },
  {
   "cell_type": "code",
   "execution_count": null,
   "id": "1c05ec21-4b88-4044-9962-09b6085a0c51",
   "metadata": {},
   "outputs": [],
   "source": [
    "function multi(hstep)\n",
    "    S = Array{BigFloat}(undef,1,order());\n",
    "    S[1] = BigFloat(1)\n",
    "    \n",
    "    for i in 1:order()-1\n",
    "        S[i+1] = S[i]*hstep/BigFloat(i)\n",
    "    end\n",
    "    \n",
    "    return S\n",
    "end"
   ]
  },
  {
   "cell_type": "code",
   "execution_count": null,
   "id": "ec8c14f5-c4e5-42fa-b3b5-435d28d190a9",
   "metadata": {},
   "outputs": [],
   "source": [
    "fdot(x,y,z) = @. x*y*z\n",
    "function Sumxyz(x,z,Cki)\n",
    "    return sum(fdot(Cki[1:end],reverse!(x[1:end]),z[1:end]))\n",
    "end "
   ]
  },
  {
   "cell_type": "code",
   "execution_count": null,
   "id": "f1ccefb8-c19f-4dbc-8379-1728a148d9da",
   "metadata": {},
   "outputs": [],
   "source": [
    "function Talor(x,y,z,Cki,Co)\n",
    "    for k in 1:order()-1\n",
    "        x[k+1] = a*(y[k] - x[k])\n",
    "        y[k+1] = (c-a)*x[k] - Sumxyz(x[1:k],z[1:k],Cki[k,1:k]) + c*y[k]\n",
    "        z[k+1] = Sumxyz(x[1:k],y[1:k],Cki[k,1:k]) - b*z[k]\n",
    "    end\n",
    "    \n",
    "    return x,y,z,min(steps(x[end],Co),steps(y[end],Co),steps(z[end],Co))\n",
    "end"
   ]
  },
  {
   "cell_type": "code",
   "execution_count": null,
   "id": "aed42eda-f4b7-4569-9614-eefe655656ae",
   "metadata": {
    "tags": []
   },
   "outputs": [],
   "source": [
    "function Iteration(x,y,z,Cki,Tin,Tinf)\n",
    "    stl = 0;\n",
    "    for st in 1:Times\n",
    "    \n",
    "        Co = Mo*Ep(Tin)^(BigFloat(1)/BigFloat(order()))\n",
    "        setprecision(accuracy(Tin))\n",
    "        \n",
    "        x,y,z,hstep = Talor(x,y,z,Cki,Co)\n",
    "        \n",
    "        if Tin + hstep < Tinf\n",
    "            \n",
    "            Dmulti = multi(hstep);\n",
    "            x[1] = sum(x[1:end].*Dmulti[1:end])\n",
    "            y[1] = sum(y[1:end].*Dmulti[1:end])\n",
    "            z[1] = sum(z[1:end].*Dmulti[1:end])\n",
    "            Lorenz[st,:] = [x[1],y[1],z[1]] \n",
    "            Lorenzf[st,:] = convert.(Float32,Lorenz[st,:])\n",
    "        \n",
    "            Tin = Tin + hstep\n",
    "            if mod(st,500) == 0\n",
    "            #println(st,\")\",\"Time=\",convert.(Float16,Tin),\": \",Lorenzf[st,:],\" (Ep: \",convert(Float16,log10(abs(Ep(Tin)))),\") (Mp: \",accuracy(Tin),\")\")\n",
    "            println(convert.(Float16,Tin))\n",
    "            end\n",
    "        else\n",
    "            hstep = Tinf - Tin\n",
    "            Dmulti = multi(hstep);\n",
    "            x[1] = sum(x[1:end].*Dmulti[1:end])\n",
    "            y[1] = sum(y[1:end].*Dmulti[1:end])\n",
    "            z[1] = sum(z[1:end].*Dmulti[1:end])\n",
    "            Lorenz[st,:] = [x[1],y[1],z[1]] \n",
    "            Lorenzf[st,:] = convert.(Float32,Lorenz[st,:])\n",
    "        \n",
    "            Tin = Tinf\n",
    "            println(st,\")\",\"Time=\",convert.(Float16,Tin),\": \",Lorenzf[st,:],\" (Ep: \",convert(Float16,log10(abs(Ep(Tin)))),\") (Mp: \",accuracy(Tin),\")\")\n",
    "            #println(convert.(Float16,Tin))\n",
    "            stl = st\n",
    "            break;\n",
    "        end\n",
    "        \n",
    "    end\n",
    "    \n",
    "    return Lorenz,stl\n",
    "    \n",
    "end"
   ]
  },
  {
   "cell_type": "code",
   "execution_count": null,
   "id": "f95cd5fe-5e6a-4461-b840-943f9475cc2b",
   "metadata": {
    "tags": []
   },
   "outputs": [],
   "source": [
    "Times = 1500000;      \n",
    "Tin = BigFloat(0);\n",
    "Tinf = BigFloat(500);\n",
    "\n",
    "ep = BigFloat(10)^(-20-1.001*Tinf)\n",
    "Mo = goonm(order())\n",
    "\n",
    "a =  BigFloat(40);\n",
    "b =  BigFloat(3);\n",
    "c =  BigFloat(28)\n",
    "\n",
    "x = Array{BigFloat}(undef,order())\n",
    "y = Array{BigFloat}(undef,order())\n",
    "z = Array{BigFloat}(undef,order())\n",
    "\n",
    "Lorenz = Array{BigFloat}(undef,Times,3);\n",
    "Ros = Array{BigFloat}(undef,Times,3);\n",
    "Lorenzf = Array{Float32}(undef,Times,3);\n",
    "Dmulti = Array{BigFloat}(undef,1,order());\n",
    "Cki = Array{BigFloat}(undef,order()-1,order()-1);\n",
    "\n",
    "x[1] = -BigFloat(1)/BigFloat(10); \n",
    "y[1] = BigFloat(1)/BigFloat(2); \n",
    "z[1] = -BigFloat(6)/BigFloat(10);\n",
    "\n",
    "Cki = DJCh();\n",
    "println(\"ep0: \",convert(Float16,log10(abs(ep))))"
   ]
  },
  {
   "cell_type": "code",
   "execution_count": null,
   "id": "3de054a4-c22b-4595-a22d-b10167e7423a",
   "metadata": {
    "tags": []
   },
   "outputs": [],
   "source": [
    "Ros,st = Iteration(x,y,z,Cki,Tin,Tinf);"
   ]
  },
  {
   "cell_type": "code",
   "execution_count": null,
   "id": "9e5cf3a8-855c-4297-9416-c802ffdb7c80",
   "metadata": {
    "tags": []
   },
   "outputs": [],
   "source": [
    "using Plots; \n",
    "plot(Ros[1:st,1],Ros[1:st,2],Ros[1:st,3])"
   ]
  },
  {
   "cell_type": "code",
   "execution_count": null,
   "id": "ffc89319-e515-430e-b33e-e97d2aaed196",
   "metadata": {},
   "outputs": [],
   "source": []
  },
  {
   "cell_type": "code",
   "execution_count": null,
   "id": "038e1123-6b1a-4a7c-8ed8-853e35481316",
   "metadata": {},
   "outputs": [],
   "source": []
  },
  {
   "cell_type": "code",
   "execution_count": null,
   "id": "13e4079c-0486-41a1-aa6a-f5d5182fdfcb",
   "metadata": {},
   "outputs": [],
   "source": []
  }
 ],
 "metadata": {
  "kernelspec": {
   "display_name": "Julia 1.8.5",
   "language": "julia",
   "name": "julia-1.8"
  },
  "language_info": {
   "file_extension": ".jl",
   "mimetype": "application/julia",
   "name": "julia",
   "version": "1.8.5"
  }
 },
 "nbformat": 4,
 "nbformat_minor": 5
}
