{
 "cells": [
  {
   "cell_type": "code",
   "execution_count": null,
   "id": "1c8d49ee-5990-4ad9-86e2-8c6663b4f791",
   "metadata": {},
   "outputs": [],
   "source": [
    "#CNS-Ac for Hénon-Heiles[0,2000] "
   ]
  },
  {
   "cell_type": "code",
   "execution_count": null,
   "id": "0fec9df6-341a-4159-a21f-24a5dd8dd673",
   "metadata": {},
   "outputs": [],
   "source": [
    "setprecision(3000);"
   ]
  },
  {
   "cell_type": "code",
   "execution_count": null,
   "id": "4e8dfcdf-fa1d-4dff-85ff-9b2c25ee92f1",
   "metadata": {},
   "outputs": [],
   "source": [
    "function accuracy(t)\n",
    "    e = ep*exp(BigFloat(2.3025851)*(BigFloat(0.046)*t-BigFloat(15)))\n",
    "    ac = (0.29803-log10(e))/0.30103;\n",
    "    return max(round(Int,ac),64);\n",
    "end"
   ]
  },
  {
   "cell_type": "code",
   "execution_count": null,
   "id": "06df4b91-fdd1-493e-b872-437fac823c10",
   "metadata": {},
   "outputs": [],
   "source": [
    "function order()\n",
    "    M=100;\n",
    "    return M+1;\n",
    "end"
   ]
  },
  {
   "cell_type": "code",
   "execution_count": null,
   "id": "901c087e-878d-40f0-8617-35f4fdd28bd1",
   "metadata": {},
   "outputs": [],
   "source": [
    "function Ep(t)\n",
    "    return ep*exp(BigFloat(2.3025851)*(BigFloat(0.046)*t-BigFloat(10)))\n",
    "end"
   ]
  },
  {
   "cell_type": "code",
   "execution_count": null,
   "id": "19aea40b-5ff3-4845-8927-1d2ab2f89ef3",
   "metadata": {},
   "outputs": [],
   "source": [
    "function steps(Dfm,Co)\n",
    "    h = Co*abs(Dfm)^(BigFloat(-1)/BigFloat(order()-1))\n",
    "    return min(h,BigFloat(2))\n",
    "end"
   ]
  },
  {
   "cell_type": "code",
   "execution_count": null,
   "id": "40966095-3c02-465c-9efd-c1d6df273379",
   "metadata": {},
   "outputs": [],
   "source": [
    "function goonm(mor)\n",
    "    sgo = BigFloat(1)\n",
    "    for i in 1:mor\n",
    "        sgo = sgo*BigFloat(i)\n",
    "    end\n",
    "    return (sgo)^(BigFloat(1)/BigFloat(mor))\n",
    "end "
   ]
  },
  {
   "cell_type": "code",
   "execution_count": null,
   "id": "647c4b6e-d3f3-46fa-8f57-a7415caf8609",
   "metadata": {},
   "outputs": [],
   "source": [
    "function goon(mor,ep)\n",
    "    sgo = BigFloat(1)\n",
    "    for i in 1:mor\n",
    "        sgo = sgo*BigFloat(i)\n",
    "    end\n",
    "    return (ep*sgo)^(BigFloat(1)/BigFloat(mor))\n",
    "end "
   ]
  },
  {
   "cell_type": "code",
   "execution_count": null,
   "id": "a50629d5-8e84-4c42-811a-a02b4df46434",
   "metadata": {},
   "outputs": [],
   "source": [
    "function JCh(k,i)\n",
    "     \n",
    "    k = BigFloat(k);\n",
    "    i = BigFloat(i);\n",
    "    s = BigFloat(1);\n",
    "    if i < k/2\n",
    "        i = k - i;\n",
    "    end\n",
    "    for j in range(k,i+1,step=-1)\n",
    "        \n",
    "        j1=BigFloat(j)\n",
    "        s = s*j1/(j1-i)\n",
    "        \n",
    "    end\n",
    "    \n",
    "    return s\n",
    "end"
   ]
  },
  {
   "cell_type": "code",
   "execution_count": null,
   "id": "ac281c6b-5e7c-4bf0-8fe6-726f9f7a39dd",
   "metadata": {},
   "outputs": [],
   "source": [
    "function DJCh()\n",
    "    Cki = Array{BigFloat}(undef,order()-1,order()-1);\n",
    "    for k in 1:order()-1\n",
    "        for j in 1:k\n",
    "            Cki[k,j] = 1\n",
    "        end\n",
    "    end\n",
    "    \n",
    "    for k in 2:order()-2\n",
    "        for i in 1:k-1\n",
    "           Cki[k+1,i+1] = Cki[k,i] + Cki[k,i+1]\n",
    "        end\n",
    "    end\n",
    "    return Cki\n",
    "end"
   ]
  },
  {
   "cell_type": "code",
   "execution_count": null,
   "id": "1c05ec21-4b88-4044-9962-09b6085a0c51",
   "metadata": {},
   "outputs": [],
   "source": [
    "function multi(hstep)\n",
    "    S = Array{BigFloat}(undef,1,order());\n",
    "    S[1] = BigFloat(1)\n",
    "    \n",
    "    for i in 1:order()-1\n",
    "        S[i+1] = S[i]*hstep/BigFloat(i)\n",
    "    end\n",
    "    \n",
    "    return S\n",
    "end"
   ]
  },
  {
   "cell_type": "code",
   "execution_count": null,
   "id": "ec8c14f5-c4e5-42fa-b3b5-435d28d190a9",
   "metadata": {},
   "outputs": [],
   "source": [
    "fdot1(x,y,z) = @. x*y*z\n",
    "fdot2(x,y) = @. x*y\n",
    "function Sumxyz1(x,y,Cki)\n",
    "    return sum(fdot1(Cki[1:end],reverse!(x[1:end]),y[1:end]))\n",
    "end \n",
    "function Sumxyz2(x,y,Cki)\n",
    "    return sum(fdot2(Cki,fdot2(reverse!(x[1:end]),x[1:end]) .- fdot2(reverse!(y[1:end]),y[1:end])))\n",
    "end "
   ]
  },
  {
   "cell_type": "code",
   "execution_count": null,
   "id": "f1ccefb8-c19f-4dbc-8379-1728a148d9da",
   "metadata": {},
   "outputs": [],
   "source": [
    "function Talor(x,y,Cki,Co)\n",
    "    for k in 1:order()-2\n",
    "        x[k+2] = -x[k] - BigFloat(2)*Sumxyz1(x[1:k],y[1:k],Cki[k,1:k])\n",
    "        y[k+2] = -y[k] - Sumxyz2(x[1:k],y[1:k],Cki[k,1:k]) \n",
    "    end\n",
    "    return x,y,min(steps(x[end],Co),steps(y[end],Co))\n",
    "end"
   ]
  },
  {
   "cell_type": "code",
   "execution_count": null,
   "id": "aed42eda-f4b7-4569-9614-eefe655656ae",
   "metadata": {},
   "outputs": [],
   "source": [
    "function Iteration(x,y,Cki,Tin,Tinf)\n",
    "    stl = 0;\n",
    "    for st in 1:Times\n",
    "        \n",
    "        Co = Mo*Ep(Tin)^(BigFloat(1)/BigFloat(order()))\n",
    "        setprecision(accuracy(Tin))\n",
    "        \n",
    "        x,y,hstep = Talor(x,y,Cki,Co)\n",
    "        \n",
    "        if Tin + hstep < Tinf\n",
    "            \n",
    "            Dmulti = multi(hstep);\n",
    "            x[1] = sum(x[1:end].*Dmulti[1:end])\n",
    "            y[1] = sum(y[1:end].*Dmulti[1:end])\n",
    "            x[2] = sum(x[2:end].*Dmulti[1:end-1])\n",
    "            y[2] = sum(y[2:end].*Dmulti[1:end-1])\n",
    "            Lorenz[st,:] = [x[1],y[1]] \n",
    "            Lorenzf[st,:] = convert.(Float32,Lorenz[st,:])\n",
    "            \n",
    "            Tin = Tin + hstep\n",
    "            if mod(st,100) == 0\n",
    "            #println(st,\")\",\"Time=\",convert.(Float16,Tin),\": \",Lorenzf[st,:],\" (Ep: \",convert(Float16,log10(abs(Ep(Tin)))),\") (Mp: \",accuracy(Tin),\")\")\n",
    "            println(convert.(Float16,Tin))\n",
    "            end\n",
    "        else\n",
    "            hstep = Tinf - Tin\n",
    "            Dmulti = multi(hstep);\n",
    "            x[1] = sum(x[1:end].*Dmulti[1:end])\n",
    "            y[1] = sum(y[1:end].*Dmulti[1:end])\n",
    "            x[2] = sum(x[2:end].*Dmulti[1:end-1])\n",
    "            y[2] = sum(y[2:end].*Dmulti[1:end-1])\n",
    "            Lorenz[st,:] = [x[1],y[1]] \n",
    "            Lorenzf[st,:] = convert.(Float32,Lorenz[st,:])\n",
    "            Tin = Tinf\n",
    "            println(st,\")\",\"Time=\",convert.(Float16,Tin),\": \",Lorenzf[st,:],\" (Ep: \",convert(Float16,log10(abs(Ep(Tin)))),\") (Mp: \",accuracy(Tin),\")\")\n",
    "            #println(convert.(Float16,Tin))\n",
    "            stl = st\n",
    "            break;\n",
    "        end\n",
    "        \n",
    "    end\n",
    "    \n",
    "    return Lorenz,stl\n",
    "    \n",
    "end"
   ]
  },
  {
   "cell_type": "code",
   "execution_count": null,
   "id": "f95cd5fe-5e6a-4461-b840-943f9475cc2b",
   "metadata": {
    "tags": []
   },
   "outputs": [],
   "source": [
    "Times = 1000000;      \n",
    "Tin = BigFloat(0);\n",
    "Tinf = BigFloat(2000);\n",
    "\n",
    "#ep = BigFloat(10)^BigFloat(-75);\n",
    "ep = BigFloat(10)^(-8-0.046*Tinf)\n",
    "Mo = goonm(order())\n",
    "\n",
    "x = Array{BigFloat}(undef,order())\n",
    "y = Array{BigFloat}(undef,order())\n",
    "Lorenz = Array{BigFloat}(undef,Times,2);\n",
    "Lorenzf = Array{Float32}(undef,Times,2);\n",
    "Dmulti = Array{BigFloat}(undef,1,order());\n",
    "Cki = Array{BigFloat}(undef,order()-1,order()-1);\n",
    "HH = Array{BigFloat}(undef,Times,2);\n",
    "\n",
    "x[1] = BigFloat(14)/BigFloat(25); \n",
    "y[1] = BigFloat(0); \n",
    "x[2] = BigFloat(0); \n",
    "y[2] = BigFloat(0); \n",
    "\n",
    "Cki = DJCh();\n",
    "println(\"ep0: \",convert(Float16,log10(abs(ep))))"
   ]
  },
  {
   "cell_type": "code",
   "execution_count": null,
   "id": "3de054a4-c22b-4595-a22d-b10167e7423a",
   "metadata": {
    "tags": []
   },
   "outputs": [],
   "source": [
    "HH,st = Iteration(x,y,Cki,Tin,Tinf);"
   ]
  },
  {
   "cell_type": "code",
   "execution_count": null,
   "id": "9e5cf3a8-855c-4297-9416-c802ffdb7c80",
   "metadata": {
    "tags": []
   },
   "outputs": [],
   "source": [
    "using Plots; \n",
    "plot(HH[1:st,1],HH[1:st,2])"
   ]
  }
 ],
 "metadata": {
  "kernelspec": {
   "display_name": "Julia 1.8.5",
   "language": "julia",
   "name": "julia-1.8"
  },
  "language_info": {
   "file_extension": ".jl",
   "mimetype": "application/julia",
   "name": "julia",
   "version": "1.8.5"
  }
 },
 "nbformat": 4,
 "nbformat_minor": 5
}
