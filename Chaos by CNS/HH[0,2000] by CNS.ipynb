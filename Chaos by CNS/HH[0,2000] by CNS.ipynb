{
 "cells": [
  {
   "cell_type": "code",
   "execution_count": null,
   "id": "1c8d49ee-5990-4ad9-86e2-8c6663b4f791",
   "metadata": {},
   "outputs": [],
   "source": [
    "#HH[0,2000] by CNS"
   ]
  },
  {
   "cell_type": "code",
   "execution_count": null,
   "id": "4e8dfcdf-fa1d-4dff-85ff-9b2c25ee92f1",
   "metadata": {},
   "outputs": [],
   "source": [
    "function accuracy()\n",
    "    ac=1200;\n",
    "    return ac;\n",
    "end\n",
    "setprecision(accuracy());"
   ]
  },
  {
   "cell_type": "code",
   "execution_count": null,
   "id": "06df4b91-fdd1-493e-b872-437fac823c10",
   "metadata": {},
   "outputs": [],
   "source": [
    "function order()\n",
    "    M=70;\n",
    "    return M+1;\n",
    "end"
   ]
  },
  {
   "cell_type": "code",
   "execution_count": null,
   "id": "19aea40b-5ff3-4845-8927-1d2ab2f89ef3",
   "metadata": {},
   "outputs": [],
   "source": [
    "function steps()\n",
    "    h = BigFloat(1)/BigFloat(10)\n",
    "    return h;\n",
    "end"
   ]
  },
  {
   "cell_type": "code",
   "execution_count": null,
   "id": "1c05ec21-4b88-4044-9962-09b6085a0c51",
   "metadata": {},
   "outputs": [],
   "source": [
    "function multi()\n",
    "    S = Array{BigFloat}(undef,1,order());\n",
    "    S[1] = BigFloat(1)\n",
    "    \n",
    "    for i in 1:order()-1\n",
    "        S[i+1] = S[i]*steps()\n",
    "    end\n",
    "    \n",
    "    return S\n",
    "end"
   ]
  },
  {
   "cell_type": "code",
   "execution_count": null,
   "id": "daa213da-c20f-41fe-bd81-6d17f05d6fd3",
   "metadata": {},
   "outputs": [],
   "source": [
    "function multi2(Dmulti)\n",
    "    S = Array{BigFloat}(undef,order()-1)\n",
    "    for i in 1:order()-1\n",
    "        S[i] = BigFloat(i)\n",
    "    end\n",
    "    return S.*Dmulti[1:end-1]\n",
    "end"
   ]
  },
  {
   "cell_type": "code",
   "execution_count": null,
   "id": "ec8c14f5-c4e5-42fa-b3b5-435d28d190a9",
   "metadata": {},
   "outputs": [],
   "source": [
    "\"\"\"fdot(x,y) = @. x*y\n",
    "function Sumxyz(x,y)\n",
    "    return sum(fdot(reverse!(x),y))\n",
    "end\n",
    "function Sumxyz2(x,y)\n",
    "    return sum(fdot(reverse!(x),x) - fdot(reverse!(y),y))\n",
    "end \n",
    "\"\"\""
   ]
  },
  {
   "cell_type": "code",
   "execution_count": null,
   "id": "078b3dfc-70ee-4e9d-bc4e-82f35a7da522",
   "metadata": {
    "tags": []
   },
   "outputs": [],
   "source": [
    "function Sumxyz(a,b)\n",
    "    return sum(reverse!(b[1:end]).*a[1:end])\n",
    "end\n",
    "function Sumxyz2(a,b)\n",
    "    return sum(a[1:end].*reverse!(a[1:end]) .- b[1:end].*reverse!(b[1:end]))\n",
    "end\n"
   ]
  },
  {
   "cell_type": "code",
   "execution_count": null,
   "id": "f1ccefb8-c19f-4dbc-8379-1728a148d9da",
   "metadata": {},
   "outputs": [],
   "source": [
    "function Talor(a,b)\n",
    "    for n in 1:order()-2\n",
    "        a[n+2] = -(a[n] + BigFloat(2)*Sumxyz(a[1:n],b[1:n]))/BigFloat((n+1)*n)\n",
    "        b[n+2] = -(b[n] + Sumxyz2(a[1:n],b[1:n]))/BigFloat((n+1)*n)\n",
    "    end\n",
    "    return a,b\n",
    "end"
   ]
  },
  {
   "cell_type": "code",
   "execution_count": null,
   "id": "aed42eda-f4b7-4569-9614-eefe655656ae",
   "metadata": {},
   "outputs": [],
   "source": [
    "function Iteration(a,b)\n",
    "    \n",
    "    for st in 1:Times\n",
    "    \n",
    "        a,b = Talor(a,b)\n",
    "        \n",
    "        a[1] = sum(a[1:end].*Dmulti[1:end])\n",
    "        b[1] = sum(b[1:end].*Dmulti[1:end])\n",
    "        a[2] = sum(a[2:end].*Dmulti2[1:end])\n",
    "        b[2] = sum(b[2:end].*Dmulti2[1:end])\n",
    "    \n",
    "        Lorenz[st,:] = [a[1],b[1]] \n",
    "        Lorenzf[st,:] = convert.(Float32,Lorenz[st,:])\n",
    "      \n",
    "        if mod(st,1000) == 0\n",
    "            println(st,\")\",\"Time=\",convert(Float16,st*steps()),\": \",Lorenzf[st,:])\n",
    "        end\n",
    "    end\n",
    "    \n",
    "    return Lorenz\n",
    "    \n",
    "end"
   ]
  },
  {
   "cell_type": "code",
   "execution_count": null,
   "id": "f95cd5fe-5e6a-4461-b840-943f9475cc2b",
   "metadata": {
    "tags": []
   },
   "outputs": [],
   "source": [
    "Times = 10*2000;      \n",
    "\n",
    "a = Array{BigFloat}(undef,order())\n",
    "b = Array{BigFloat}(undef,order())\n",
    "Lorenz = Array{BigFloat}(undef,Times,2);\n",
    "Lorenzf = Array{Float32}(undef,Times,2);\n",
    "Dmulti = Array{BigFloat}(undef,1,order());\n",
    "Dmulti2 = Array{BigFloat}(undef,1,order()-1);\n",
    "\n",
    "a[1] = BigFloat(14)/BigFloat(25); \n",
    "b[1] = BigFloat(0); \n",
    "a[2] = BigFloat(0); \n",
    "b[2] = BigFloat(0); \n",
    "\n",
    "Dmulti = multi();\n",
    "Dmulti2 = multi2(Dmulti);"
   ]
  },
  {
   "cell_type": "code",
   "execution_count": null,
   "id": "3de054a4-c22b-4595-a22d-b10167e7423a",
   "metadata": {
    "tags": []
   },
   "outputs": [],
   "source": [
    "HH = Iteration(a,b);"
   ]
  },
  {
   "cell_type": "code",
   "execution_count": null,
   "id": "9e5cf3a8-855c-4297-9416-c802ffdb7c80",
   "metadata": {
    "tags": []
   },
   "outputs": [],
   "source": [
    "using Plots; \n",
    "plot(HH[1:end,1],HH[1:end,2])"
   ]
  },
  {
   "cell_type": "code",
   "execution_count": null,
   "id": "ffc89319-e515-430e-b33e-e97d2aaed196",
   "metadata": {
    "tags": []
   },
   "outputs": [],
   "source": [
    "#write\n",
    "function Wfile(AT,BE,Times)\n",
    "#change name--------------------------------------------\n",
    "    XLSX.openxlsx(\"CNS_HH.xlsx\", mode=\"w\") do xf\n",
    "#-------------------------------------------------------\n",
    "        sheet = xf[1]\n",
    "        XLSX.rename!(sheet, \"new_sheet\")\n",
    "#change location----------------------------------------\n",
    "        sheet[\"A1\"] = \"T\"\n",
    "        sheet[\"B1\"] = \"X\"\n",
    "        sheet[\"A2\",dim=1] = AT[1:end]\n",
    "        sheet[\"B2\",dim=1] = BE[1:end]\n",
    "#-------------------------------------------------------\n",
    "    end\n",
    "end\n",
    "#-----------------------------------------------------------------------------\n",
    "using XLSX\n",
    "#time-----------------------------------------------------\n",
    "AT=Array{Float64}(undef,Times)\n",
    "for i in 1:Times\n",
    "    AT[i] = i*steps()\n",
    "end\n",
    "#time-----------------------------------------------------\n",
    "BE = HH[:,1]\n",
    "#--------------------------------------------------------\n",
    "Wfile(AT,BE,Times);"
   ]
  },
  {
   "cell_type": "code",
   "execution_count": null,
   "id": "038e1123-6b1a-4a7c-8ed8-853e35481316",
   "metadata": {},
   "outputs": [],
   "source": []
  },
  {
   "cell_type": "code",
   "execution_count": null,
   "id": "19cd379a-c82c-4094-bb43-1de0011a3458",
   "metadata": {},
   "outputs": [],
   "source": []
  }
 ],
 "metadata": {
  "kernelspec": {
   "display_name": "Julia 1.8.5",
   "language": "julia",
   "name": "julia-1.8"
  },
  "language_info": {
   "file_extension": ".jl",
   "mimetype": "application/julia",
   "name": "julia",
   "version": "1.8.5"
  }
 },
 "nbformat": 4,
 "nbformat_minor": 5
}
