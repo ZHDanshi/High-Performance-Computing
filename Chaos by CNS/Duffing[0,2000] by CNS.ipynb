{
 "cells": [
  {
   "cell_type": "code",
   "execution_count": null,
   "id": "1c8d49ee-5990-4ad9-86e2-8c6663b4f791",
   "metadata": {},
   "outputs": [],
   "source": [
    "#Duffing[0,2000] by CNS"
   ]
  },
  {
   "cell_type": "code",
   "execution_count": null,
   "id": "4e8dfcdf-fa1d-4dff-85ff-9b2c25ee92f1",
   "metadata": {
    "tags": []
   },
   "outputs": [],
   "source": [
    "function accuracy()\n",
    "    ac=800;\n",
    "    return ac;\n",
    "end\n",
    "setprecision(accuracy());"
   ]
  },
  {
   "cell_type": "code",
   "execution_count": null,
   "id": "06df4b91-fdd1-493e-b872-437fac823c10",
   "metadata": {},
   "outputs": [],
   "source": [
    "function order()\n",
    "    M=80;#60\n",
    "    return M+1;\n",
    "end"
   ]
  },
  {
   "cell_type": "code",
   "execution_count": null,
   "id": "19aea40b-5ff3-4845-8927-1d2ab2f89ef3",
   "metadata": {},
   "outputs": [],
   "source": [
    "function steps()\n",
    "    h = BigFloat(1)/BigFloat(100)\n",
    "    return h;\n",
    "end"
   ]
  },
  {
   "cell_type": "code",
   "execution_count": null,
   "id": "a50629d5-8e84-4c42-811a-a02b4df46434",
   "metadata": {},
   "outputs": [],
   "source": [
    "function JCh(k,i)\n",
    "     \n",
    "    k = BigFloat(k);\n",
    "    i = BigFloat(i);\n",
    "    s = BigFloat(1);\n",
    "    if i < k/2\n",
    "        i = k - i;\n",
    "    end\n",
    "    for j in range(k,i+1,step=-1)\n",
    "        \n",
    "        j1=BigFloat(j)\n",
    "        s = s*j1/(j1-i)\n",
    "        \n",
    "    end\n",
    "    \n",
    "    return s\n",
    "end"
   ]
  },
  {
   "cell_type": "code",
   "execution_count": null,
   "id": "ac281c6b-5e7c-4bf0-8fe6-726f9f7a39dd",
   "metadata": {},
   "outputs": [],
   "source": [
    "function DJCh()\n",
    "    Cki = Array{BigFloat}(undef,order()-1,order()-1);\n",
    "    for k in 1:order()-1\n",
    "        for j in 1:k\n",
    "            Cki[k,j] = 1\n",
    "        end\n",
    "    end\n",
    "    \n",
    "    for k in 2:order()-2\n",
    "        for i in 1:k-1\n",
    "           Cki[k+1,i+1] = Cki[k,i] + Cki[k,i+1]\n",
    "        end\n",
    "    end\n",
    "    return Cki\n",
    "end"
   ]
  },
  {
   "cell_type": "code",
   "execution_count": null,
   "id": "1c05ec21-4b88-4044-9962-09b6085a0c51",
   "metadata": {},
   "outputs": [],
   "source": [
    "function multi()\n",
    "    S = Array{BigFloat}(undef,1,order());\n",
    "    S[1] = BigFloat(1)\n",
    "    \n",
    "    for i in 1:order()-1\n",
    "        S[i+1] = S[i]*steps()/BigFloat(i)\n",
    "    end\n",
    "    \n",
    "    return S\n",
    "end"
   ]
  },
  {
   "cell_type": "code",
   "execution_count": null,
   "id": "1974979a-adc8-49ed-ba41-06161be163f1",
   "metadata": {},
   "outputs": [],
   "source": [
    "fdot(x,y,z) = @. x*y*z"
   ]
  },
  {
   "cell_type": "code",
   "execution_count": null,
   "id": "53903ad5-da9b-4f75-a473-08b653ba47fb",
   "metadata": {
    "tags": []
   },
   "outputs": [],
   "source": [
    "function Sumxx(x,k,Cki)\n",
    "    xx = Array{BigFloat}(undef,k)\n",
    "    for i in 1:k\n",
    "        xx[i] = sum(fdot(Cki[i,1:i],x[1:i],reverse!(x[1:i])))\n",
    "    end\n",
    "    return xx\n",
    "end "
   ]
  },
  {
   "cell_type": "code",
   "execution_count": null,
   "id": "ec8c14f5-c4e5-42fa-b3b5-435d28d190a9",
   "metadata": {},
   "outputs": [],
   "source": [
    "function Sumxyz(x,k,Cki)\n",
    "    return sum(fdot(Cki[k,1:k],Sumxx(x[1:end],k,Cki),reverse!(x[1:end])))\n",
    "end "
   ]
  },
  {
   "cell_type": "code",
   "execution_count": null,
   "id": "f1ccefb8-c19f-4dbc-8379-1728a148d9da",
   "metadata": {
    "tags": []
   },
   "outputs": [],
   "source": [
    "function Talor(x,y,z,Cki,Tin)\n",
    "    \n",
    "    for k in 1:order()-1\n",
    "        if mod(k,4) == 1\n",
    "            x[k+1] = y[k]\n",
    "            y[k+1] = a*c^(k-1)*cos(c*Tin) - b*y[k] - x[k] - Sumxyz(x[1:k],k,Cki)\n",
    "            z[k+1] = 0.0\n",
    "        elseif mod(k,4) == 2\n",
    "            x[k+1] = y[k]\n",
    "            y[k+1] = -a*c^(k-1)*sin(c*Tin) - b*y[k] - x[k] - Sumxyz(x[1:k],k,Cki)\n",
    "            z[k+1] = 0.0\n",
    "        elseif mod(k,4) == 3\n",
    "            x[k+1] = y[k]\n",
    "            y[k+1] = -a*c^(k-1)*cos(c*Tin) - b*y[k] - x[k] - Sumxyz(x[1:k],k,Cki)\n",
    "            z[k+1] = 0.0\n",
    "        else\n",
    "            x[k+1] = y[k]\n",
    "            y[k+1] = a*c^(k-1)*sin(c*Tin) - b*y[k] - x[k] - Sumxyz(x[1:k],k,Cki)\n",
    "            z[k+1] = 0.0\n",
    "        end\n",
    "    end\n",
    "    \n",
    "    return x,y,z\n",
    "end"
   ]
  },
  {
   "cell_type": "code",
   "execution_count": null,
   "id": "aed42eda-f4b7-4569-9614-eefe655656ae",
   "metadata": {
    "tags": []
   },
   "outputs": [],
   "source": [
    "function Iteration(x,y,z,Cki,Tin)\n",
    "    \n",
    "    for st in 1:Times\n",
    "    \n",
    "        x,y,z = Talor(x,y,z,Cki,Tin)\n",
    "        \n",
    "        x[1] = sum(x[1:end].*Dmulti[1:end])\n",
    "        y[1] = sum(y[1:end].*Dmulti[1:end])\n",
    "        z[1] = sum(z[1:end].*Dmulti[1:end])\n",
    "    \n",
    "        Lorenz[st,:] = [x[1],y[1],z[1]] \n",
    "        Lorenzf[st,:] = convert.(Float64,Lorenz[st,:])\n",
    "        \n",
    "        Tin = Tin + steps()\n",
    "        if mod(st,1000) == 0\n",
    "            println(st,\") \",\"time=\",convert(Float16,Tin),\": \",Lorenzf[st,1:2])\n",
    "        end\n",
    "        \n",
    "    end\n",
    "    \n",
    "    return Lorenz\n",
    "    \n",
    "end"
   ]
  },
  {
   "cell_type": "code",
   "execution_count": null,
   "id": "f95cd5fe-5e6a-4461-b840-943f9475cc2b",
   "metadata": {
    "tags": []
   },
   "outputs": [],
   "source": [
    "Times = 100*2000;      \n",
    "\n",
    "a =  BigFloat(92) + BigFloat(825)/BigFloat(1000);\n",
    "b =  BigFloat(1)/BigFloat(10);\n",
    "c =  BigFloat(1)/BigFloat(1);\n",
    "\n",
    "x = Array{BigFloat}(undef,order())\n",
    "y = Array{BigFloat}(undef,order())\n",
    "z = Array{BigFloat}(undef,order())\n",
    "\n",
    "Lorenz = Array{BigFloat}(undef,Times,3);\n",
    "HH = Array{BigFloat}(undef,Times,3);\n",
    "Ep = Array{BigFloat}(undef,Times,1);\n",
    "Lorenzf = Array{Float32}(undef,Times,3);\n",
    "Dmulti = Array{BigFloat}(undef,1,order());\n",
    "Cki = Array{BigFloat}(undef,order()-1,order()-1);\n",
    "\n",
    "x[1] = BigFloat(0); \n",
    "y[1] = BigFloat(0); \n",
    "z[1] = BigFloat(0);\n",
    "Tin = BigFloat(0)\n",
    "\n",
    "Cki = DJCh();\n",
    "Dmulti = multi();"
   ]
  },
  {
   "cell_type": "code",
   "execution_count": null,
   "id": "3de054a4-c22b-4595-a22d-b10167e7423a",
   "metadata": {
    "tags": []
   },
   "outputs": [],
   "source": [
    "HH = Iteration(x,y,z,Cki,Tin);"
   ]
  },
  {
   "cell_type": "code",
   "execution_count": null,
   "id": "9e5cf3a8-855c-4297-9416-c802ffdb7c80",
   "metadata": {
    "tags": []
   },
   "outputs": [],
   "source": [
    "using Plots; \n",
    "plot(HH[1:end,1],HH[1:end,2])"
   ]
  },
  {
   "cell_type": "code",
   "execution_count": null,
   "id": "820488bf-9281-48ec-a705-6cd5f1ca1847",
   "metadata": {
    "tags": []
   },
   "outputs": [],
   "source": [
    "#write\n",
    "function Wfile(AT,BE,Times)\n",
    "#change name--------------------------------------------\n",
    "    XLSX.openxlsx(\"CNS_Duffing.xlsx\", mode=\"w\") do xf\n",
    "#-------------------------------------------------------\n",
    "        sheet = xf[1]\n",
    "        XLSX.rename!(sheet, \"new_sheet\")\n",
    "#change location----------------------------------------\n",
    "        sheet[\"A1\"] = \"T\"\n",
    "        sheet[\"B1\"] = \"X\"\n",
    "        sheet[\"A2\",dim=1] = AT[1:end]\n",
    "        sheet[\"B2\",dim=1] = BE[1:end]\n",
    "#-------------------------------------------------------\n",
    "    end\n",
    "end\n",
    "#-----------------------------------------------------------------------------\n",
    "using XLSX\n",
    "#time-----------------------------------------------------\n",
    "AT=Array{Float64}(undef,Times)\n",
    "for i in 1:Times\n",
    "    AT[i] = i*steps()\n",
    "end\n",
    "#time-----------------------------------------------------\n",
    "BE = HH[:,1]\n",
    "#--------------------------------------------------------\n",
    "Wfile(AT,BE,Times);"
   ]
  },
  {
   "cell_type": "code",
   "execution_count": null,
   "id": "aba83a6c-174e-4229-a112-ebf41700f1ac",
   "metadata": {
    "tags": []
   },
   "outputs": [],
   "source": [
    "plot(xlabel = \"x\", ylabel = \"x'\")\n",
    "clr = palette(:gist_rainbow)\n",
    "Plots.plot!(HH[1:15000,1],HH[1:15000,2],\n",
    "    linealpha = 1,\n",
    "    linewidth = 1.5,\n",
    "    linecolor = clr[1:end],\n",
    "    legend = false\n",
    ")"
   ]
  },
  {
   "cell_type": "code",
   "execution_count": null,
   "id": "038e1123-6b1a-4a7c-8ed8-853e35481316",
   "metadata": {
    "tags": []
   },
   "outputs": [],
   "source": [
    "plot(1:10000,HH[1:10000,1])"
   ]
  }
 ],
 "metadata": {
  "kernelspec": {
   "display_name": "Julia 1.8.5",
   "language": "julia",
   "name": "julia-1.8"
  },
  "language_info": {
   "file_extension": ".jl",
   "mimetype": "application/julia",
   "name": "julia",
   "version": "1.8.5"
  }
 },
 "nbformat": 4,
 "nbformat_minor": 5
}
