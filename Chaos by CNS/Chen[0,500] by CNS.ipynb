{
 "cells": [
  {
   "cell_type": "code",
   "execution_count": null,
   "id": "1c8d49ee-5990-4ad9-86e2-8c6663b4f791",
   "metadata": {},
   "outputs": [],
   "source": [
    "#Chen[0,500] by CNS"
   ]
  },
  {
   "cell_type": "code",
   "execution_count": null,
   "id": "4e8dfcdf-fa1d-4dff-85ff-9b2c25ee92f1",
   "metadata": {},
   "outputs": [],
   "source": [
    "function accuracy()\n",
    "    ac=2500;\n",
    "    return ac;\n",
    "end\n",
    "setprecision(accuracy());"
   ]
  },
  {
   "cell_type": "code",
   "execution_count": null,
   "id": "06df4b91-fdd1-493e-b872-437fac823c10",
   "metadata": {
    "tags": []
   },
   "outputs": [],
   "source": [
    "function order()\n",
    "    M=550;#550\n",
    "    return M+1;\n",
    "end"
   ]
  },
  {
   "cell_type": "code",
   "execution_count": null,
   "id": "19aea40b-5ff3-4845-8927-1d2ab2f89ef3",
   "metadata": {},
   "outputs": [],
   "source": [
    "function steps()\n",
    "    h = BigFloat(1)/BigFloat(100)\n",
    "    return h;\n",
    "end"
   ]
  },
  {
   "cell_type": "code",
   "execution_count": null,
   "id": "a50629d5-8e84-4c42-811a-a02b4df46434",
   "metadata": {},
   "outputs": [],
   "source": [
    "function JCh(k,i)\n",
    "     \n",
    "    k = BigFloat(k);\n",
    "    i = BigFloat(i);\n",
    "    s = BigFloat(1);\n",
    "    if i < k/2\n",
    "        i = k - i;\n",
    "    end\n",
    "    for j in range(k,i+1,step=-1)\n",
    "        \n",
    "        j1=BigFloat(j)\n",
    "        s = s*j1/(j1-i)\n",
    "        \n",
    "    end\n",
    "    \n",
    "    return s\n",
    "end"
   ]
  },
  {
   "cell_type": "code",
   "execution_count": null,
   "id": "ac281c6b-5e7c-4bf0-8fe6-726f9f7a39dd",
   "metadata": {},
   "outputs": [],
   "source": [
    "function DJCh()\n",
    "    Cki = Array{BigFloat}(undef,order()-1,order()-1);\n",
    "    for k in 1:order()-1\n",
    "        for j in 1:k\n",
    "            Cki[k,j] = 1\n",
    "        end\n",
    "    end\n",
    "    \n",
    "    for k in 2:order()-2\n",
    "        for i in 1:k-1\n",
    "           Cki[k+1,i+1] = Cki[k,i] + Cki[k,i+1]\n",
    "        end\n",
    "    end\n",
    "    return Cki\n",
    "end"
   ]
  },
  {
   "cell_type": "code",
   "execution_count": null,
   "id": "1c05ec21-4b88-4044-9962-09b6085a0c51",
   "metadata": {},
   "outputs": [],
   "source": [
    "function multi()\n",
    "    S = Array{BigFloat}(undef,1,order());\n",
    "    S[1] = BigFloat(1)\n",
    "    \n",
    "    for i in 1:order()-1\n",
    "        S[i+1] = S[i]*steps()/BigFloat(i)\n",
    "    end\n",
    "    \n",
    "    return S\n",
    "end"
   ]
  },
  {
   "cell_type": "code",
   "execution_count": null,
   "id": "ec8c14f5-c4e5-42fa-b3b5-435d28d190a9",
   "metadata": {},
   "outputs": [],
   "source": [
    "fdot(x,y,z) = @. x*y*z\n",
    "function Sumxyz(x,y,Cki)\n",
    "    return sum(fdot(Cki[1:end],reverse!(x[1:end]),y[1:end]))\n",
    "end "
   ]
  },
  {
   "cell_type": "code",
   "execution_count": null,
   "id": "f1ccefb8-c19f-4dbc-8379-1728a148d9da",
   "metadata": {},
   "outputs": [],
   "source": [
    "function Talor(x,y,z,Cki)\n",
    "    for k in 1:order()-1\n",
    "        x[k+1] = a*(y[k] - x[k])\n",
    "        y[k+1] = (c-a)*x[k] - Sumxyz(x[1:k],z[1:k],Cki[k,1:k]) + c*y[k]\n",
    "        z[k+1] = Sumxyz(x[1:k],y[1:k],Cki[k,1:k]) - b*z[k]\n",
    "    end\n",
    "    \n",
    "    return x,y,z\n",
    "end"
   ]
  },
  {
   "cell_type": "code",
   "execution_count": null,
   "id": "aed42eda-f4b7-4569-9614-eefe655656ae",
   "metadata": {},
   "outputs": [],
   "source": [
    "function Iteration(x,y,z,Cki)\n",
    "    \n",
    "    for st in 1:Times\n",
    "    \n",
    "        x,y,z = Talor(x,y,z,Cki)\n",
    "        \n",
    "        x[1] = sum(x[1:end].*Dmulti[1:end])\n",
    "        y[1] = sum(y[1:end].*Dmulti[1:end])\n",
    "        z[1] = sum(z[1:end].*Dmulti[1:end])\n",
    "    \n",
    "        Lorenz[st,:] = [x[1],y[1],z[1]] \n",
    "        Lorenzf[st,:] = convert.(Float32,Lorenz[st,:])\n",
    "          \n",
    "        if mod(st,500) == 0\n",
    "            println(st,\") \",\"time=\",convert(Float16,st*steps()),\": \",Lorenzf[st,:])\n",
    "        end\n",
    "    end\n",
    "    \n",
    "    return Lorenz\n",
    "    \n",
    "end"
   ]
  },
  {
   "cell_type": "code",
   "execution_count": null,
   "id": "f95cd5fe-5e6a-4461-b840-943f9475cc2b",
   "metadata": {
    "tags": []
   },
   "outputs": [],
   "source": [
    "Times = 100*50;      \n",
    "\n",
    "a =  BigFloat(40);\n",
    "b =  BigFloat(3);\n",
    "c =  BigFloat(28)\n",
    "\n",
    "x = Array{BigFloat}(undef,order())\n",
    "y = Array{BigFloat}(undef,order())\n",
    "z = Array{BigFloat}(undef,order())\n",
    "\n",
    "Lorenz = Array{BigFloat}(undef,Times,3);\n",
    "HH = Array{BigFloat}(undef,Times,3);\n",
    "Ep = Array{BigFloat}(undef,Times,1);\n",
    "Lorenzf = Array{Float32}(undef,Times,3);\n",
    "Dmulti = Array{BigFloat}(undef,1,order());\n",
    "Cki = Array{BigFloat}(undef,order()-1,order()-1);\n",
    "\n",
    "x[1] = -BigFloat(1)/BigFloat(10); \n",
    "y[1] = BigFloat(1)/BigFloat(2); \n",
    "z[1] = -BigFloat(6)/BigFloat(10);\n",
    "\n",
    "Cki = DJCh();\n",
    "Dmulti = multi();"
   ]
  },
  {
   "cell_type": "code",
   "execution_count": null,
   "id": "3de054a4-c22b-4595-a22d-b10167e7423a",
   "metadata": {
    "tags": []
   },
   "outputs": [],
   "source": [
    "HH = Iteration(x,y,z,Cki);"
   ]
  },
  {
   "cell_type": "code",
   "execution_count": null,
   "id": "9e5cf3a8-855c-4297-9416-c802ffdb7c80",
   "metadata": {
    "tags": []
   },
   "outputs": [],
   "source": [
    "using Plots; \n",
    "plot(HH[1:end,1],HH[1:end,2],HH[1:end,3])"
   ]
  },
  {
   "cell_type": "code",
   "execution_count": null,
   "id": "13e4079c-0486-41a1-aa6a-f5d5182fdfcb",
   "metadata": {
    "tags": []
   },
   "outputs": [],
   "source": [
    "#write\n",
    "function Wfile(AT,BE,Times)\n",
    "#change name--------------------------------------------\n",
    "    XLSX.openxlsx(\"CNS_Chen.xlsx\", mode=\"w\") do xf\n",
    "#-------------------------------------------------------\n",
    "        sheet = xf[1]\n",
    "        XLSX.rename!(sheet, \"new_sheet\")\n",
    "#change location----------------------------------------\n",
    "        sheet[\"A1\"] = \"T\"\n",
    "        sheet[\"B1\"] = \"X\"\n",
    "        sheet[\"A2\",dim=1] = AT[1:end]\n",
    "        sheet[\"B2\",dim=1] = BE[1:end]\n",
    "#-------------------------------------------------------\n",
    "    end\n",
    "end\n",
    "#-----------------------------------------------------------------------------\n",
    "using XLSX\n",
    "#time-----------------------------------------------------\n",
    "AT=Array{Float64}(undef,Times)\n",
    "for i in 1:Times\n",
    "    AT[i] = i*steps()\n",
    "end\n",
    "#time-----------------------------------------------------\n",
    "BE = HH[:,1]\n",
    "#--------------------------------------------------------\n",
    "Wfile(AT,BE,Times);"
   ]
  }
 ],
 "metadata": {
  "kernelspec": {
   "display_name": "Julia 1.8.5",
   "language": "julia",
   "name": "julia-1.8"
  },
  "language_info": {
   "file_extension": ".jl",
   "mimetype": "application/julia",
   "name": "julia",
   "version": "1.8.5"
  }
 },
 "nbformat": 4,
 "nbformat_minor": 5
}
